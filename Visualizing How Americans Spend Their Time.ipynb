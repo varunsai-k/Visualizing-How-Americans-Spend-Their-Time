{
 "cells": [
  {
   "cell_type": "markdown",
   "id": "7acce080",
   "metadata": {},
   "source": [
    "<div style=\"color:white;\n",
    "            display:fill;\n",
    "            border-radius:15px;\n",
    "            background-color:white;\n",
    "            font-size:130%;\n",
    "            font-family:Verdana;\n",
    "            letter-spacing:1px\">\n",
    "    <h3 style='padding: 20px;\n",
    "              color:black;\n",
    "               border:black;\n",
    "               border-width:2.5px;\n",
    "               border-style:solid;\n",
    "              font-family: Times New Roman;\n",
    "              text-align:center;'>\n",
    "         Visualizing How Americans Spend Their Time?\n",
    "    </h3>\n",
    "    </div>"
   ]
  },
  {
   "cell_type": "markdown",
   "id": "06539fbc",
   "metadata": {},
   "source": [
    "![](https://cdn2.momjunction.com/wp-content/uploads/2022/09/Nuclear-families-comprise-a-couple-and-their-children.jpg)"
   ]
  },
  {
   "cell_type": "markdown",
   "id": "95c411ce",
   "metadata": {},
   "source": [
    "This Data is Obtained by the <b>American Time Use Survey (ATUS)</b> orgainsed by <b>U.S. Bureau of Labor Statistics</b>.The American Time Use Survey (ATUS) measures the amount of time people spend doing various activities, such as paid work, childcare, volunteering, and socializing.\n",
    "\n",
    "The American Time Use Survey asks questions about how people spend their time. Time is a resource – just like money – and knowing how people spend their time helps answer important questions.\n",
    "\n",
    "Economists, social scientists, and other researchers design time-use studies to find out how people allocate their time between work, family, leisure, and other activities. Many people increasingly feel a “time crunch” trying to meet all of their work and family obligations, and time-use data provide insight into how household members divide up these duties.\n",
    "\n",
    "Time-use data also measure the time spent in activities such as childcare, eldercare, and volunteer work. These activities are currently not included in measures of domestic economic output. Measuring these activities provides a better picture of all economic activity performed in the United States. Time-use data also provide more accurate information on labor for measuring productivity."
   ]
  },
  {
   "cell_type": "code",
   "execution_count": 1,
   "id": "066c82b8",
   "metadata": {},
   "outputs": [
    {
     "data": {
      "text/html": [
       "        <script type=\"text/javascript\">\n",
       "        window.PlotlyConfig = {MathJaxConfig: 'local'};\n",
       "        if (window.MathJax) {MathJax.Hub.Config({SVG: {font: \"STIX-Web\"}});}\n",
       "        if (typeof require !== 'undefined') {\n",
       "        require.undef(\"plotly\");\n",
       "        requirejs.config({\n",
       "            paths: {\n",
       "                'plotly': ['https://cdn.plot.ly/plotly-2.11.1.min']\n",
       "            }\n",
       "        });\n",
       "        require(['plotly'], function(Plotly) {\n",
       "            window._Plotly = Plotly;\n",
       "        });\n",
       "        }\n",
       "        </script>\n",
       "        "
      ]
     },
     "metadata": {},
     "output_type": "display_data"
    }
   ],
   "source": [
    "import pandas as pd\n",
    "import numpy as np\n",
    "import matplotlib.pyplot as plt\n",
    "import plotly.express as px\n",
    "from plotly.offline import init_notebook_mode\n",
    "import seaborn as sns\n",
    "import datetime as dt\n",
    "import warnings\n",
    "import plotly.graph_objects as go\n",
    "warnings.filterwarnings('ignore')\n",
    "pd.set_option('display.max_columns',None)\n",
    "init_notebook_mode(connected=True)"
   ]
  },
  {
   "cell_type": "code",
   "execution_count": 2,
   "id": "ad0e8db4",
   "metadata": {},
   "outputs": [
    {
     "data": {
      "text/html": [
       "<div>\n",
       "<style scoped>\n",
       "    .dataframe tbody tr th:only-of-type {\n",
       "        vertical-align: middle;\n",
       "    }\n",
       "\n",
       "    .dataframe tbody tr th {\n",
       "        vertical-align: top;\n",
       "    }\n",
       "\n",
       "    .dataframe thead th {\n",
       "        text-align: right;\n",
       "    }\n",
       "</style>\n",
       "<table border=\"1\" class=\"dataframe\">\n",
       "  <thead>\n",
       "    <tr style=\"text-align: right;\">\n",
       "      <th></th>\n",
       "      <th>Unnamed: 0</th>\n",
       "      <th>Entity</th>\n",
       "      <th>Code</th>\n",
       "      <th>Year</th>\n",
       "      <th>Time spent alone, by age of respondent (United States)</th>\n",
       "      <th>Time spent with friends, by age of respondent (United States)</th>\n",
       "      <th>Time spent with children, by age of respondent (United States)</th>\n",
       "      <th>Time spent with with parents, siblings and other family, by age of respondent (United States)</th>\n",
       "      <th>Time spent with partner, by age of respondent (United States)</th>\n",
       "      <th>Time spent with coworkers, by age of respondent (United States)</th>\n",
       "    </tr>\n",
       "  </thead>\n",
       "  <tbody>\n",
       "    <tr>\n",
       "      <th>0</th>\n",
       "      <td>0</td>\n",
       "      <td>United States</td>\n",
       "      <td>USA</td>\n",
       "      <td>15</td>\n",
       "      <td>193.30588</td>\n",
       "      <td>109.41450</td>\n",
       "      <td>23.463852</td>\n",
       "      <td>267.12091</td>\n",
       "      <td>0.000000</td>\n",
       "      <td>8.342007</td>\n",
       "    </tr>\n",
       "    <tr>\n",
       "      <th>1</th>\n",
       "      <td>1</td>\n",
       "      <td>United States</td>\n",
       "      <td>USA</td>\n",
       "      <td>16</td>\n",
       "      <td>206.37056</td>\n",
       "      <td>110.74180</td>\n",
       "      <td>28.609867</td>\n",
       "      <td>254.33810</td>\n",
       "      <td>0.030691</td>\n",
       "      <td>23.529137</td>\n",
       "    </tr>\n",
       "    <tr>\n",
       "      <th>2</th>\n",
       "      <td>2</td>\n",
       "      <td>United States</td>\n",
       "      <td>USA</td>\n",
       "      <td>17</td>\n",
       "      <td>224.17331</td>\n",
       "      <td>120.41887</td>\n",
       "      <td>26.089708</td>\n",
       "      <td>229.81561</td>\n",
       "      <td>1.122841</td>\n",
       "      <td>43.809685</td>\n",
       "    </tr>\n",
       "    <tr>\n",
       "      <th>3</th>\n",
       "      <td>3</td>\n",
       "      <td>United States</td>\n",
       "      <td>USA</td>\n",
       "      <td>18</td>\n",
       "      <td>242.69839</td>\n",
       "      <td>137.75107</td>\n",
       "      <td>27.387308</td>\n",
       "      <td>236.35201</td>\n",
       "      <td>5.697267</td>\n",
       "      <td>81.633575</td>\n",
       "    </tr>\n",
       "    <tr>\n",
       "      <th>4</th>\n",
       "      <td>4</td>\n",
       "      <td>United States</td>\n",
       "      <td>USA</td>\n",
       "      <td>19</td>\n",
       "      <td>267.79385</td>\n",
       "      <td>129.85716</td>\n",
       "      <td>36.445004</td>\n",
       "      <td>201.27660</td>\n",
       "      <td>19.341291</td>\n",
       "      <td>124.850520</td>\n",
       "    </tr>\n",
       "  </tbody>\n",
       "</table>\n",
       "</div>"
      ],
      "text/plain": [
       "   Unnamed: 0         Entity Code  Year  \\\n",
       "0           0  United States  USA    15   \n",
       "1           1  United States  USA    16   \n",
       "2           2  United States  USA    17   \n",
       "3           3  United States  USA    18   \n",
       "4           4  United States  USA    19   \n",
       "\n",
       "   Time spent alone, by age of respondent (United States)  \\\n",
       "0                                          193.30588        \n",
       "1                                          206.37056        \n",
       "2                                          224.17331        \n",
       "3                                          242.69839        \n",
       "4                                          267.79385        \n",
       "\n",
       "   Time spent with friends, by age of respondent (United States)  \\\n",
       "0                                          109.41450               \n",
       "1                                          110.74180               \n",
       "2                                          120.41887               \n",
       "3                                          137.75107               \n",
       "4                                          129.85716               \n",
       "\n",
       "   Time spent with children, by age of respondent (United States)  \\\n",
       "0                                          23.463852                \n",
       "1                                          28.609867                \n",
       "2                                          26.089708                \n",
       "3                                          27.387308                \n",
       "4                                          36.445004                \n",
       "\n",
       "   Time spent with with parents, siblings and other family, by age of respondent (United States)  \\\n",
       "0                                          267.12091                                               \n",
       "1                                          254.33810                                               \n",
       "2                                          229.81561                                               \n",
       "3                                          236.35201                                               \n",
       "4                                          201.27660                                               \n",
       "\n",
       "   Time spent with partner, by age of respondent (United States)  \\\n",
       "0                                           0.000000               \n",
       "1                                           0.030691               \n",
       "2                                           1.122841               \n",
       "3                                           5.697267               \n",
       "4                                          19.341291               \n",
       "\n",
       "   Time spent with coworkers, by age of respondent (United States)  \n",
       "0                                           8.342007                \n",
       "1                                          23.529137                \n",
       "2                                          43.809685                \n",
       "3                                          81.633575                \n",
       "4                                         124.850520                "
      ]
     },
     "execution_count": 2,
     "metadata": {},
     "output_type": "execute_result"
    }
   ],
   "source": [
    "df=pd.read_csv(r\"C:\\Users\\Varun Sai Kanuri\\Downloads\\Americans_Time_spent_with_relationships_by_age.csv\")\n",
    "df.head()"
   ]
  },
  {
   "cell_type": "code",
   "execution_count": 3,
   "id": "d291adb6",
   "metadata": {},
   "outputs": [],
   "source": [
    "df.rename(columns={'Time spent alone, by age of respondent (United States)':'Time spent alone','Time spent with friends, by age of respondent (United States)':'Time spent with friends','Time spent with children, by age of respondent (United States)':'Time spent with children','Time spent with with parents, siblings and other family, by age of respondent (United States)':'Time spent with parents, siblings and other family','Time spent with partner, by age of respondent (United States)':'Time spent with partner','Time spent with coworkers, by age of respondent (United States)':'Time spent with coworkers'},inplace=True)\n",
    "df['Time spent alone']=round(df['Time spent alone']/60,2)\n",
    "df['Time spent with friends']=round(df['Time spent with friends']/60,2)\n",
    "df['Time spent with children']=round(df['Time spent with children']/60,2)\n",
    "df['Time spent with parents, siblings and other family']=round(df['Time spent with parents, siblings and other family']/60,2)\n",
    "df['Time spent with partner']=round(df['Time spent with partner']/60,2)\n",
    "df['Time spent with coworkers']=round(df['Time spent with coworkers']/60,2)"
   ]
  },
  {
   "cell_type": "code",
   "execution_count": 4,
   "id": "cfce06e9",
   "metadata": {
    "scrolled": true
   },
   "outputs": [
    {
     "data": {
      "text/html": [
       "<div>\n",
       "<style scoped>\n",
       "    .dataframe tbody tr th:only-of-type {\n",
       "        vertical-align: middle;\n",
       "    }\n",
       "\n",
       "    .dataframe tbody tr th {\n",
       "        vertical-align: top;\n",
       "    }\n",
       "\n",
       "    .dataframe thead th {\n",
       "        text-align: right;\n",
       "    }\n",
       "</style>\n",
       "<table border=\"1\" class=\"dataframe\">\n",
       "  <thead>\n",
       "    <tr style=\"text-align: right;\">\n",
       "      <th></th>\n",
       "      <th>Unnamed: 0</th>\n",
       "      <th>Entity</th>\n",
       "      <th>Code</th>\n",
       "      <th>Year</th>\n",
       "      <th>Time spent alone</th>\n",
       "      <th>Time spent with friends</th>\n",
       "      <th>Time spent with children</th>\n",
       "      <th>Time spent with parents, siblings and other family</th>\n",
       "      <th>Time spent with partner</th>\n",
       "      <th>Time spent with coworkers</th>\n",
       "    </tr>\n",
       "  </thead>\n",
       "  <tbody>\n",
       "    <tr>\n",
       "      <th>0</th>\n",
       "      <td>0</td>\n",
       "      <td>United States</td>\n",
       "      <td>USA</td>\n",
       "      <td>15</td>\n",
       "      <td>3.22</td>\n",
       "      <td>1.82</td>\n",
       "      <td>0.39</td>\n",
       "      <td>4.45</td>\n",
       "      <td>0.00</td>\n",
       "      <td>0.14</td>\n",
       "    </tr>\n",
       "    <tr>\n",
       "      <th>1</th>\n",
       "      <td>1</td>\n",
       "      <td>United States</td>\n",
       "      <td>USA</td>\n",
       "      <td>16</td>\n",
       "      <td>3.44</td>\n",
       "      <td>1.85</td>\n",
       "      <td>0.48</td>\n",
       "      <td>4.24</td>\n",
       "      <td>0.00</td>\n",
       "      <td>0.39</td>\n",
       "    </tr>\n",
       "    <tr>\n",
       "      <th>2</th>\n",
       "      <td>2</td>\n",
       "      <td>United States</td>\n",
       "      <td>USA</td>\n",
       "      <td>17</td>\n",
       "      <td>3.74</td>\n",
       "      <td>2.01</td>\n",
       "      <td>0.43</td>\n",
       "      <td>3.83</td>\n",
       "      <td>0.02</td>\n",
       "      <td>0.73</td>\n",
       "    </tr>\n",
       "    <tr>\n",
       "      <th>3</th>\n",
       "      <td>3</td>\n",
       "      <td>United States</td>\n",
       "      <td>USA</td>\n",
       "      <td>18</td>\n",
       "      <td>4.04</td>\n",
       "      <td>2.30</td>\n",
       "      <td>0.46</td>\n",
       "      <td>3.94</td>\n",
       "      <td>0.09</td>\n",
       "      <td>1.36</td>\n",
       "    </tr>\n",
       "    <tr>\n",
       "      <th>4</th>\n",
       "      <td>4</td>\n",
       "      <td>United States</td>\n",
       "      <td>USA</td>\n",
       "      <td>19</td>\n",
       "      <td>4.46</td>\n",
       "      <td>2.16</td>\n",
       "      <td>0.61</td>\n",
       "      <td>3.35</td>\n",
       "      <td>0.32</td>\n",
       "      <td>2.08</td>\n",
       "    </tr>\n",
       "  </tbody>\n",
       "</table>\n",
       "</div>"
      ],
      "text/plain": [
       "   Unnamed: 0         Entity Code  Year  Time spent alone  \\\n",
       "0           0  United States  USA    15              3.22   \n",
       "1           1  United States  USA    16              3.44   \n",
       "2           2  United States  USA    17              3.74   \n",
       "3           3  United States  USA    18              4.04   \n",
       "4           4  United States  USA    19              4.46   \n",
       "\n",
       "   Time spent with friends  Time spent with children  \\\n",
       "0                     1.82                      0.39   \n",
       "1                     1.85                      0.48   \n",
       "2                     2.01                      0.43   \n",
       "3                     2.30                      0.46   \n",
       "4                     2.16                      0.61   \n",
       "\n",
       "   Time spent with parents, siblings and other family  \\\n",
       "0                                               4.45    \n",
       "1                                               4.24    \n",
       "2                                               3.83    \n",
       "3                                               3.94    \n",
       "4                                               3.35    \n",
       "\n",
       "   Time spent with partner  Time spent with coworkers  \n",
       "0                     0.00                       0.14  \n",
       "1                     0.00                       0.39  \n",
       "2                     0.02                       0.73  \n",
       "3                     0.09                       1.36  \n",
       "4                     0.32                       2.08  "
      ]
     },
     "execution_count": 4,
     "metadata": {},
     "output_type": "execute_result"
    }
   ],
   "source": [
    "df.head()"
   ]
  },
  {
   "cell_type": "code",
   "execution_count": 5,
   "id": "4981c76c",
   "metadata": {},
   "outputs": [
    {
     "data": {
      "image/png": "[encoded data removed]",
      "text/plain": [
       "<Figure size 1728x1008 with 6 Axes>"
      ]
     },
     "metadata": {
      "needs_background": "light"
     },
     "output_type": "display_data"
    }
   ],
   "source": [
    "fig, axes = plt.subplots(3, 2, sharex=True, figsize=(24,14))\n",
    "fig.suptitle('Feature Distribution',fontname=\"Times New Roman\", size=28,fontweight=\"bold\")\n",
    "sns.kdeplot(ax=axes[0,0],x=df['Time spent alone'], color='DarkOrange', shade=True, label='Alone',alpha=0.5)\n",
    "axes[0,0].set_title('Time spent alone', fontname=\"Times New Roman\", size=18,fontweight=\"bold\")\n",
    "sns.kdeplot(ax=axes[0,1],x=df['Time spent with friends'], color='purple', shade=True, label='with friends',alpha=0.5)\n",
    "axes[0,1].set_title('Time spent with friends', fontname=\"Times New Roman\", size=18,fontweight=\"bold\")\n",
    "sns.kdeplot(ax=axes[1,0],x=df['Time spent with children'], color='blue', shade=True, label='with children',alpha=0.5)\n",
    "axes[1,0].set_title('Time spent with children', fontname=\"Times New Roman\", size=18,fontweight=\"bold\")\n",
    "sns.kdeplot(ax=axes[1,1],x=df['Time spent with parents, siblings and other family'], color='green', shade=True, label='with Parents',alpha=0.5)\n",
    "axes[1,1].set_title('Time spent with parents, siblings and other family', fontname=\"Times New Roman\", size=18,fontweight=\"bold\")\n",
    "sns.kdeplot(ax=axes[2,0],x=df['Time spent with partner'], color='Plum', shade=True, label='with partner',alpha=0.5)\n",
    "axes[2,0].set_title('Time spent with partner', fontname=\"Times New Roman\", size=18,fontweight=\"bold\")\n",
    "sns.kdeplot(ax=axes[2,1],x=df['Time spent with coworkers'], color='SaddleBrown', shade=True, label='with coworkers',alpha=0.5)\n",
    "axes[2,1].set_title('Time spent with coworkers', fontname=\"Times New Roman\", size=18,fontweight=\"bold\")\n",
    "axes[0,0].axis('off');axes[0,1].axis('off');axes[1,0].axis('off');axes[1,1].axis('off');axes[2,0].axis('off');axes[2,1].axis('off')\n",
    "plt.show()"
   ]
  },
  {
   "cell_type": "markdown",
   "id": "f6d49bdf",
   "metadata": {},
   "source": [
    "<p>From the Distribution, we can say that Time spent Alone has maximum Distribution and Time Spent with Friends has Minimum Distribution</p>"
   ]
  },
  {
   "cell_type": "markdown",
   "id": "a52ee1e5",
   "metadata": {},
   "source": [
    "<div style=\"color:white;\n",
    "            display:fill;\n",
    "            border-radius:15px;\n",
    "            background-color:white;\n",
    "            font-size:130%;\n",
    "            font-family:Verdana;\n",
    "            letter-spacing:1px\">\n",
    "    <h3 style='padding: 20px;\n",
    "              color:black;\n",
    "               border:black;\n",
    "               border-width:2.5px;\n",
    "               border-style:solid;\n",
    "              font-family: Times New Roman;\n",
    "              text-align:center;'>\n",
    "         Who Americans spend their time with, by age\n",
    "    </h3>\n",
    "    </div>"
   ]
  },
  {
   "cell_type": "code",
   "execution_count": 6,
   "id": "5b1d0e5d",
   "metadata": {
    "tags": [
     "hide-input",
     "display-out"
    ]
   },
   "outputs": [
    {
     "data": {
      "application/vnd.plotly.v1+json": {
       "config": {
        "plotlyServerURL": "https://plot.ly"
       },
       "data": [
        {
         "line": {
          "color": "red",
          "width": 2.5
         },
         "mode": "lines",
         "name": "alone",
         "type": "scatter",
         "x": [
          15,
          16,
          17,
          18,
          19,
          20,
          21,
          22,
          23,
          24,
          25,
          26,
          27,
          28,
          29,
          30,
          31,
          32,
          33,
          34,
          35,
          36,
          37,
          38,
          39,
          40,
          41,
          42,
          43,
          44,
          45,
          46,
          47,
          48,
          49,
          50,
          51,
          52,
          53,
          54,
          55,
          56,
          57,
          58,
          59,
          60,
          61,
          62,
          63,
          64,
          65,
          66,
          67,
          68,
          69,
          70,
          71,
          72,
          73,
          74,
          75,
          76,
          77,
          78,
          79,
          80,
          85
         ],
         "y": [
          3.22,
          3.44,
          3.74,
          4.04,
          4.46,
          4.63,
          4.5,
          4.73,
          4.52,
          4.43,
          4.59,
          4.69,
          4.32,
          4.35,
          4.23,
          4.17,
          4.22,
          4.25,
          4.08,
          4.39,
          4.38,
          4.55,
          4.45,
          4.32,
          4.7,
          4.64,
          4.87,
          4.97,
          5.36,
          5.21,
          5.15,
          5.45,
          5.64,
          5.54,
          5.66,
          6.02,
          6.14,
          6.35,
          6.2,
          6.3,
          6.4,
          6.45,
          6.65,
          6.83,
          6.86,
          6.89,
          6.91,
          7.09,
          7.18,
          7.48,
          7.4,
          7.2,
          7.23,
          7.47,
          7.38,
          7.48,
          7.41,
          7.91,
          7.52,
          7.64,
          7.72,
          7.61,
          7.57,
          7.69,
          8.1,
          7.95,
          8.36
         ]
        },
        {
         "line": {
          "color": "orange",
          "width": 2.5
         },
         "mode": "lines",
         "name": "with friends",
         "type": "scatter",
         "x": [
          15,
          16,
          17,
          18,
          19,
          20,
          21,
          22,
          23,
          24,
          25,
          26,
          27,
          28,
          29,
          30,
          31,
          32,
          33,
          34,
          35,
          36,
          37,
          38,
          39,
          40,
          41,
          42,
          43,
          44,
          45,
          46,
          47,
          48,
          49,
          50,
          51,
          52,
          53,
          54,
          55,
          56,
          57,
          58,
          59,
          60,
          61,
          62,
          63,
          64,
          65,
          66,
          67,
          68,
          69,
          70,
          71,
          72,
          73,
          74,
          75,
          76,
          77,
          78,
          79,
          80,
          85
         ],
         "y": [
          1.82,
          1.85,
          2.01,
          2.3,
          2.16,
          2.05,
          2.04,
          1.67,
          1.68,
          1.61,
          1.29,
          1.3,
          1.24,
          1.04,
          0.92,
          0.89,
          0.85,
          0.82,
          0.83,
          0.71,
          0.69,
          0.67,
          0.72,
          0.7,
          0.56,
          0.6,
          0.65,
          0.64,
          0.65,
          0.65,
          0.6,
          0.62,
          0.65,
          0.56,
          0.62,
          0.48,
          0.59,
          0.57,
          0.53,
          0.58,
          0.55,
          0.61,
          0.52,
          0.59,
          0.48,
          0.6,
          0.55,
          0.57,
          0.6,
          0.59,
          0.6,
          0.68,
          0.65,
          0.69,
          0.7,
          0.76,
          0.74,
          0.74,
          0.61,
          0.68,
          0.65,
          0.69,
          0.56,
          0.65,
          0.7,
          0.59,
          0.61
         ]
        },
        {
         "line": {
          "color": "royalblue",
          "width": 2.5
         },
         "mode": "lines",
         "name": "with children",
         "type": "scatter",
         "x": [
          15,
          16,
          17,
          18,
          19,
          20,
          21,
          22,
          23,
          24,
          25,
          26,
          27,
          28,
          29,
          30,
          31,
          32,
          33,
          34,
          35,
          36,
          37,
          38,
          39,
          40,
          41,
          42,
          43,
          44,
          45,
          46,
          47,
          48,
          49,
          50,
          51,
          52,
          53,
          54,
          55,
          56,
          57,
          58,
          59,
          60,
          61,
          62,
          63,
          64,
          65,
          66,
          67,
          68,
          69,
          70,
          71,
          72,
          73,
          74,
          75,
          76,
          77,
          78,
          79,
          80,
          85
         ],
         "y": [
          0.39,
          0.48,
          0.43,
          0.46,
          0.61,
          0.91,
          1.15,
          1.21,
          1.62,
          1.66,
          1.99,
          2.14,
          2.56,
          2.93,
          3.24,
          3.33,
          3.77,
          3.85,
          4.27,
          4.35,
          4.15,
          4.28,
          4.27,
          4.24,
          4.43,
          4.04,
          3.95,
          3.72,
          3.46,
          3.45,
          3.32,
          2.96,
          2.81,
          2.62,
          2.21,
          2.21,
          2.06,
          1.71,
          1.71,
          1.5,
          1.47,
          1.31,
          1.23,
          1.14,
          1.17,
          1.03,
          1.18,
          0.96,
          1.04,
          0.92,
          0.96,
          0.99,
          1.05,
          0.9,
          1.15,
          0.88,
          0.98,
          0.77,
          0.94,
          0.82,
          0.81,
          0.74,
          0.78,
          0.72,
          0.64,
          0.75,
          0.76
         ]
        },
        {
         "line": {
          "color": "green",
          "width": 2.5
         },
         "mode": "lines",
         "name": "with family",
         "type": "scatter",
         "x": [
          15,
          16,
          17,
          18,
          19,
          20,
          21,
          22,
          23,
          24,
          25,
          26,
          27,
          28,
          29,
          30,
          31,
          32,
          33,
          34,
          35,
          36,
          37,
          38,
          39,
          40,
          41,
          42,
          43,
          44,
          45,
          46,
          47,
          48,
          49,
          50,
          51,
          52,
          53,
          54,
          55,
          56,
          57,
          58,
          59,
          60,
          61,
          62,
          63,
          64,
          65,
          66,
          67,
          68,
          69,
          70,
          71,
          72,
          73,
          74,
          75,
          76,
          77,
          78,
          79,
          80,
          85
         ],
         "y": [
          4.45,
          4.24,
          3.83,
          3.94,
          3.35,
          2.89,
          2.54,
          2.26,
          2.1,
          1.73,
          1.68,
          1.46,
          1.43,
          1.34,
          1.36,
          1.21,
          1.16,
          1.02,
          1.11,
          1.1,
          1.04,
          1.08,
          0.94,
          0.9,
          0.88,
          0.91,
          0.93,
          0.84,
          0.92,
          0.9,
          0.97,
          0.91,
          1,
          0.98,
          0.98,
          1.09,
          1.04,
          1.09,
          0.99,
          1,
          1.01,
          1.1,
          0.98,
          1.1,
          1.12,
          1.09,
          1.01,
          0.94,
          1.22,
          1.07,
          1.09,
          1.15,
          0.98,
          0.9,
          1.02,
          0.8,
          0.97,
          0.95,
          0.94,
          1.1,
          0.94,
          0.87,
          1.12,
          1,
          0.87,
          1.1,
          1.08
         ]
        },
        {
         "line": {
          "color": "magenta",
          "width": 2.5
         },
         "mode": "lines",
         "name": "with partner",
         "type": "scatter",
         "x": [
          15,
          16,
          17,
          18,
          19,
          20,
          21,
          22,
          23,
          24,
          25,
          26,
          27,
          28,
          29,
          30,
          31,
          32,
          33,
          34,
          35,
          36,
          37,
          38,
          39,
          40,
          41,
          42,
          43,
          44,
          45,
          46,
          47,
          48,
          49,
          50,
          51,
          52,
          53,
          54,
          55,
          56,
          57,
          58,
          59,
          60,
          61,
          62,
          63,
          64,
          65,
          66,
          67,
          68,
          69,
          70,
          71,
          72,
          73,
          74,
          75,
          76,
          77,
          78,
          79,
          80,
          85
         ],
         "y": [
          0,
          0,
          0.02,
          0.09,
          0.32,
          0.44,
          1,
          0.93,
          1.3,
          1.66,
          2.02,
          2.33,
          2.53,
          2.8,
          2.94,
          3,
          3.4,
          3.2,
          3.33,
          3.32,
          3.3,
          3.29,
          3.4,
          3.39,
          3.53,
          3.37,
          3.24,
          3.04,
          3.03,
          3.2,
          3.07,
          3.11,
          3.02,
          3.3,
          3.24,
          2.92,
          3.13,
          3.18,
          3.15,
          3.05,
          3.07,
          3.27,
          3.09,
          3.11,
          3.33,
          3.41,
          3.42,
          3.73,
          3.87,
          3.86,
          4.04,
          4.26,
          4.3,
          4.34,
          4.51,
          4.36,
          4.44,
          4.35,
          4.6,
          4.24,
          4.22,
          4.44,
          4.55,
          4.27,
          3.92,
          3.78,
          2.64
         ]
        },
        {
         "line": {
          "color": "SaddleBrown",
          "width": 2.5
         },
         "mode": "lines",
         "name": "with Coworkers",
         "type": "scatter",
         "x": [
          15,
          16,
          17,
          18,
          19,
          20,
          21,
          22,
          23,
          24,
          25,
          26,
          27,
          28,
          29,
          30,
          31,
          32,
          33,
          34,
          35,
          36,
          37,
          38,
          39,
          40,
          41,
          42,
          43,
          44,
          45,
          46,
          47,
          48,
          49,
          50,
          51,
          52,
          53,
          54,
          55,
          56,
          57,
          58,
          59,
          60,
          61,
          62,
          63,
          64,
          65,
          66,
          67,
          68,
          69,
          70,
          71,
          72,
          73,
          74,
          75,
          76,
          77,
          78,
          79,
          80,
          85
         ],
         "y": [
          0.14,
          0.39,
          0.73,
          1.36,
          2.08,
          2.4,
          2.57,
          2.88,
          3.17,
          3.43,
          3.32,
          3.17,
          3.52,
          3.54,
          3.32,
          3.59,
          3.32,
          3.38,
          3.12,
          2.99,
          3.18,
          2.98,
          3.14,
          3.28,
          2.88,
          3.12,
          2.99,
          3.16,
          2.83,
          3.04,
          3.04,
          2.98,
          2.86,
          2.83,
          3.13,
          2.8,
          2.87,
          2.93,
          2.8,
          3.07,
          2.72,
          2.57,
          2.63,
          2.34,
          2.34,
          2.1,
          2.11,
          1.61,
          1.31,
          1.3,
          1.04,
          0.85,
          0.74,
          0.65,
          0.45,
          0.45,
          0.36,
          0.34,
          0.31,
          0.24,
          0.27,
          0.33,
          0.21,
          0.05,
          0.08,
          0.09,
          0.06
         ]
        }
       ],
       "layout": {
        "annotations": [
         {
          "showarrow": false,
          "text": "<b style=\"color:red; font-size:0.9vw\">Alone</b>",
          "x": 1.07,
          "xref": "paper",
          "y": 0.98,
          "yref": "paper"
         },
         {
          "showarrow": false,
          "text": "<b style=\"color:magenta; font-size:0.9vw\">with Partner</b>",
          "x": 1.12,
          "xref": "paper",
          "y": 0.32,
          "yref": "paper"
         },
         {
          "showarrow": false,
          "text": "<b style=\"color:green; font-size:0.9vw\">with Family</b>",
          "x": 1.12,
          "xref": "paper",
          "y": 0.16,
          "yref": "paper"
         },
         {
          "showarrow": false,
          "text": "<b style=\"color:blue; font-size:0.9vw\">with Children</b>",
          "x": 1.134,
          "xref": "paper",
          "y": 0.12,
          "yref": "paper"
         },
         {
          "showarrow": false,
          "text": "<b style=\"color:orange; font-size:0.9vw\">with Friends</b>",
          "x": 1.123,
          "xref": "paper",
          "y": 0.08,
          "yref": "paper"
         },
         {
          "showarrow": false,
          "text": "<b style=\"color:SaddleBrown; font-size:0.9vw\">with Coworkers</b>",
          "x": 1.155,
          "xref": "paper",
          "y": 0.03,
          "yref": "paper"
         },
         {
          "showarrow": false,
          "text": "<b style=\"font-family: Times New Roman; font-size:1vw\">Source: </b><b style=\"font-family: Times New Roman; font-size:1vw\"> American Time Use Survey (2009-2019)</b>",
          "x": 0,
          "xref": "paper",
          "y": -0.18,
          "yref": "paper"
         },
         {
          "showarrow": false,
          "text": "<b style=\"font-family: Times New Roman; font-size:0.9vw\"> © Plotly</b>",
          "x": 1,
          "xref": "paper",
          "y": -0.18,
          "yref": "paper"
         }
        ],
        "hovermode": "x",
        "margin": {
         "b": 70,
         "r": 125,
         "t": 100
        },
        "showlegend": false,
        "template": {
         "data": {
          "bar": [
           {
            "error_x": {
             "color": "#2a3f5f"
            },
            "error_y": {
             "color": "#2a3f5f"
            },
            "marker": {
             "line": {
              "color": "white",
              "width": 0.5
             },
             "pattern": {
              "fillmode": "overlay",
              "size": 10,
              "solidity": 0.2
             }
            },
            "type": "bar"
           }
          ],
          "barpolar": [
           {
            "marker": {
             "line": {
              "color": "white",
              "width": 0.5
             },
             "pattern": {
              "fillmode": "overlay",
              "size": 10,
              "solidity": 0.2
             }
            },
            "type": "barpolar"
           }
          ],
          "carpet": [
           {
            "aaxis": {
             "endlinecolor": "#2a3f5f",
             "gridcolor": "#C8D4E3",
             "linecolor": "#C8D4E3",
             "minorgridcolor": "#C8D4E3",
             "startlinecolor": "#2a3f5f"
            },
            "baxis": {
             "endlinecolor": "#2a3f5f",
             "gridcolor": "#C8D4E3",
             "linecolor": "#C8D4E3",
             "minorgridcolor": "#C8D4E3",
             "startlinecolor": "#2a3f5f"
            },
            "type": "carpet"
           }
          ],
          "choropleth": [
           {
            "colorbar": {
             "outlinewidth": 0,
             "ticks": ""
            },
            "type": "choropleth"
           }
          ],
          "contour": [
           {
            "colorbar": {
             "outlinewidth": 0,
             "ticks": ""
            },
            "colorscale": [
             [
              0,
              "#0d0887"
             ],
             [
              0.1111111111111111,
              "#46039f"
             ],
             [
              0.2222222222222222,
              "#7201a8"
             ],
             [
              0.3333333333333333,
              "#9c179e"
             ],
             [
              0.4444444444444444,
              "#bd3786"
             ],
             [
              0.5555555555555556,
              "#d8576b"
             ],
             [
              0.6666666666666666,
              "#ed7953"
             ],
             [
              0.7777777777777778,
              "#fb9f3a"
             ],
             [
              0.8888888888888888,
              "#fdca26"
             ],
             [
              1,
              "#f0f921"
             ]
            ],
            "type": "contour"
           }
          ],
          "contourcarpet": [
           {
            "colorbar": {
             "outlinewidth": 0,
             "ticks": ""
            },
            "type": "contourcarpet"
           }
          ],
          "heatmap": [
           {
            "colorbar": {
             "outlinewidth": 0,
             "ticks": ""
            },
            "colorscale": [
             [
              0,
              "#0d0887"
             ],
             [
              0.1111111111111111,
              "#46039f"
             ],
             [
              0.2222222222222222,
              "#7201a8"
             ],
             [
              0.3333333333333333,
              "#9c179e"
             ],
             [
              0.4444444444444444,
              "#bd3786"
             ],
             [
              0.5555555555555556,
              "#d8576b"
             ],
             [
              0.6666666666666666,
              "#ed7953"
             ],
             [
              0.7777777777777778,
              "#fb9f3a"
             ],
             [
              0.8888888888888888,
              "#fdca26"
             ],
             [
              1,
              "#f0f921"
             ]
            ],
            "type": "heatmap"
           }
          ],
          "heatmapgl": [
           {
            "colorbar": {
             "outlinewidth": 0,
             "ticks": ""
            },
            "colorscale": [
             [
              0,
              "#0d0887"
             ],
             [
              0.1111111111111111,
              "#46039f"
             ],
             [
              0.2222222222222222,
              "#7201a8"
             ],
             [
              0.3333333333333333,
              "#9c179e"
             ],
             [
              0.4444444444444444,
              "#bd3786"
             ],
             [
              0.5555555555555556,
              "#d8576b"
             ],
             [
              0.6666666666666666,
              "#ed7953"
             ],
             [
              0.7777777777777778,
              "#fb9f3a"
             ],
             [
              0.8888888888888888,
              "#fdca26"
             ],
             [
              1,
              "#f0f921"
             ]
            ],
            "type": "heatmapgl"
           }
          ],
          "histogram": [
           {
            "marker": {
             "pattern": {
              "fillmode": "overlay",
              "size": 10,
              "solidity": 0.2
             }
            },
            "type": "histogram"
           }
          ],
          "histogram2d": [
           {
            "colorbar": {
             "outlinewidth": 0,
             "ticks": ""
            },
            "colorscale": [
             [
              0,
              "#0d0887"
             ],
             [
              0.1111111111111111,
              "#46039f"
             ],
             [
              0.2222222222222222,
              "#7201a8"
             ],
             [
              0.3333333333333333,
              "#9c179e"
             ],
             [
              0.4444444444444444,
              "#bd3786"
             ],
             [
              0.5555555555555556,
              "#d8576b"
             ],
             [
              0.6666666666666666,
              "#ed7953"
             ],
             [
              0.7777777777777778,
              "#fb9f3a"
             ],
             [
              0.8888888888888888,
              "#fdca26"
             ],
             [
              1,
              "#f0f921"
             ]
            ],
            "type": "histogram2d"
           }
          ],
          "histogram2dcontour": [
           {
            "colorbar": {
             "outlinewidth": 0,
             "ticks": ""
            },
            "colorscale": [
             [
              0,
              "#0d0887"
             ],
             [
              0.1111111111111111,
              "#46039f"
             ],
             [
              0.2222222222222222,
              "#7201a8"
             ],
             [
              0.3333333333333333,
              "#9c179e"
             ],
             [
              0.4444444444444444,
              "#bd3786"
             ],
             [
              0.5555555555555556,
              "#d8576b"
             ],
             [
              0.6666666666666666,
              "#ed7953"
             ],
             [
              0.7777777777777778,
              "#fb9f3a"
             ],
             [
              0.8888888888888888,
              "#fdca26"
             ],
             [
              1,
              "#f0f921"
             ]
            ],
            "type": "histogram2dcontour"
           }
          ],
          "mesh3d": [
           {
            "colorbar": {
             "outlinewidth": 0,
             "ticks": ""
            },
            "type": "mesh3d"
           }
          ],
          "parcoords": [
           {
            "line": {
             "colorbar": {
              "outlinewidth": 0,
              "ticks": ""
             }
            },
            "type": "parcoords"
           }
          ],
          "pie": [
           {
            "automargin": true,
            "type": "pie"
           }
          ],
          "scatter": [
           {
            "fillpattern": {
             "fillmode": "overlay",
             "size": 10,
             "solidity": 0.2
            },
            "type": "scatter"
           }
          ],
          "scatter3d": [
           {
            "line": {
             "colorbar": {
              "outlinewidth": 0,
              "ticks": ""
             }
            },
            "marker": {
             "colorbar": {
              "outlinewidth": 0,
              "ticks": ""
             }
            },
            "type": "scatter3d"
           }
          ],
          "scattercarpet": [
           {
            "marker": {
             "colorbar": {
              "outlinewidth": 0,
              "ticks": ""
             }
            },
            "type": "scattercarpet"
           }
          ],
          "scattergeo": [
           {
            "marker": {
             "colorbar": {
              "outlinewidth": 0,
              "ticks": ""
             }
            },
            "type": "scattergeo"
           }
          ],
          "scattergl": [
           {
            "marker": {
             "colorbar": {
              "outlinewidth": 0,
              "ticks": ""
             }
            },
            "type": "scattergl"
           }
          ],
          "scattermapbox": [
           {
            "marker": {
             "colorbar": {
              "outlinewidth": 0,
              "ticks": ""
             }
            },
            "type": "scattermapbox"
           }
          ],
          "scatterpolar": [
           {
            "marker": {
             "colorbar": {
              "outlinewidth": 0,
              "ticks": ""
             }
            },
            "type": "scatterpolar"
           }
          ],
          "scatterpolargl": [
           {
            "marker": {
             "colorbar": {
              "outlinewidth": 0,
              "ticks": ""
             }
            },
            "type": "scatterpolargl"
           }
          ],
          "scatterternary": [
           {
            "marker": {
             "colorbar": {
              "outlinewidth": 0,
              "ticks": ""
             }
            },
            "type": "scatterternary"
           }
          ],
          "surface": [
           {
            "colorbar": {
             "outlinewidth": 0,
             "ticks": ""
            },
            "colorscale": [
             [
              0,
              "#0d0887"
             ],
             [
              0.1111111111111111,
              "#46039f"
             ],
             [
              0.2222222222222222,
              "#7201a8"
             ],
             [
              0.3333333333333333,
              "#9c179e"
             ],
             [
              0.4444444444444444,
              "#bd3786"
             ],
             [
              0.5555555555555556,
              "#d8576b"
             ],
             [
              0.6666666666666666,
              "#ed7953"
             ],
             [
              0.7777777777777778,
              "#fb9f3a"
             ],
             [
              0.8888888888888888,
              "#fdca26"
             ],
             [
              1,
              "#f0f921"
             ]
            ],
            "type": "surface"
           }
          ],
          "table": [
           {
            "cells": {
             "fill": {
              "color": "#EBF0F8"
             },
             "line": {
              "color": "white"
             }
            },
            "header": {
             "fill": {
              "color": "#C8D4E3"
             },
             "line": {
              "color": "white"
             }
            },
            "type": "table"
           }
          ]
         },
         "layout": {
          "annotationdefaults": {
           "arrowcolor": "#2a3f5f",
           "arrowhead": 0,
           "arrowwidth": 1
          },
          "autotypenumbers": "strict",
          "coloraxis": {
           "colorbar": {
            "outlinewidth": 0,
            "ticks": ""
           }
          },
          "colorscale": {
           "diverging": [
            [
             0,
             "#8e0152"
            ],
            [
             0.1,
             "#c51b7d"
            ],
            [
             0.2,
             "#de77ae"
            ],
            [
             0.3,
             "#f1b6da"
            ],
            [
             0.4,
             "#fde0ef"
            ],
            [
             0.5,
             "#f7f7f7"
            ],
            [
             0.6,
             "#e6f5d0"
            ],
            [
             0.7,
             "#b8e186"
            ],
            [
             0.8,
             "#7fbc41"
            ],
            [
             0.9,
             "#4d9221"
            ],
            [
             1,
             "#276419"
            ]
           ],
           "sequential": [
            [
             0,
             "#0d0887"
            ],
            [
             0.1111111111111111,
             "#46039f"
            ],
            [
             0.2222222222222222,
             "#7201a8"
            ],
            [
             0.3333333333333333,
             "#9c179e"
            ],
            [
             0.4444444444444444,
             "#bd3786"
            ],
            [
             0.5555555555555556,
             "#d8576b"
            ],
            [
             0.6666666666666666,
             "#ed7953"
            ],
            [
             0.7777777777777778,
             "#fb9f3a"
            ],
            [
             0.8888888888888888,
             "#fdca26"
            ],
            [
             1,
             "#f0f921"
            ]
           ],
           "sequentialminus": [
            [
             0,
             "#0d0887"
            ],
            [
             0.1111111111111111,
             "#46039f"
            ],
            [
             0.2222222222222222,
             "#7201a8"
            ],
            [
             0.3333333333333333,
             "#9c179e"
            ],
            [
             0.4444444444444444,
             "#bd3786"
            ],
            [
             0.5555555555555556,
             "#d8576b"
            ],
            [
             0.6666666666666666,
             "#ed7953"
            ],
            [
             0.7777777777777778,
             "#fb9f3a"
            ],
            [
             0.8888888888888888,
             "#fdca26"
            ],
            [
             1,
             "#f0f921"
            ]
           ]
          },
          "colorway": [
           "#636efa",
           "#EF553B",
           "#00cc96",
           "#ab63fa",
           "#FFA15A",
           "#19d3f3",
           "#FF6692",
           "#B6E880",
           "#FF97FF",
           "#FECB52"
          ],
          "font": {
           "color": "#2a3f5f"
          },
          "geo": {
           "bgcolor": "white",
           "lakecolor": "white",
           "landcolor": "white",
           "showlakes": true,
           "showland": true,
           "subunitcolor": "#C8D4E3"
          },
          "hoverlabel": {
           "align": "left"
          },
          "hovermode": "closest",
          "mapbox": {
           "style": "light"
          },
          "paper_bgcolor": "white",
          "plot_bgcolor": "white",
          "polar": {
           "angularaxis": {
            "gridcolor": "#EBF0F8",
            "linecolor": "#EBF0F8",
            "ticks": ""
           },
           "bgcolor": "white",
           "radialaxis": {
            "gridcolor": "#EBF0F8",
            "linecolor": "#EBF0F8",
            "ticks": ""
           }
          },
          "scene": {
           "xaxis": {
            "backgroundcolor": "white",
            "gridcolor": "#DFE8F3",
            "gridwidth": 2,
            "linecolor": "#EBF0F8",
            "showbackground": true,
            "ticks": "",
            "zerolinecolor": "#EBF0F8"
           },
           "yaxis": {
            "backgroundcolor": "white",
            "gridcolor": "#DFE8F3",
            "gridwidth": 2,
            "linecolor": "#EBF0F8",
            "showbackground": true,
            "ticks": "",
            "zerolinecolor": "#EBF0F8"
           },
           "zaxis": {
            "backgroundcolor": "white",
            "gridcolor": "#DFE8F3",
            "gridwidth": 2,
            "linecolor": "#EBF0F8",
            "showbackground": true,
            "ticks": "",
            "zerolinecolor": "#EBF0F8"
           }
          },
          "shapedefaults": {
           "line": {
            "color": "#2a3f5f"
           }
          },
          "ternary": {
           "aaxis": {
            "gridcolor": "#DFE8F3",
            "linecolor": "#A2B1C6",
            "ticks": ""
           },
           "baxis": {
            "gridcolor": "#DFE8F3",
            "linecolor": "#A2B1C6",
            "ticks": ""
           },
           "bgcolor": "white",
           "caxis": {
            "gridcolor": "#DFE8F3",
            "linecolor": "#A2B1C6",
            "ticks": ""
           }
          },
          "title": {
           "x": 0.05
          },
          "xaxis": {
           "automargin": true,
           "gridcolor": "#EBF0F8",
           "linecolor": "#EBF0F8",
           "ticks": "",
           "title": {
            "standoff": 15
           },
           "zerolinecolor": "#EBF0F8",
           "zerolinewidth": 2
          },
          "yaxis": {
           "automargin": true,
           "gridcolor": "#EBF0F8",
           "linecolor": "#EBF0F8",
           "ticks": "",
           "title": {
            "standoff": 15
           },
           "zerolinecolor": "#EBF0F8",
           "zerolinewidth": 2
          }
         }
        },
        "title": {
         "text": "<b style=\"font-family: Times New Roman; font-size:1.6vw\">Who Americans spend their time with, by age</b><br><b style=\"font-family: Times New Roman; font-size:1.1vw\">Average time spent with others is measured in minutes per day, and shown by the age of the respondent. This<br>is based on averages from surveys between 2009 and 2019.</b>"
        },
        "xaxis": {
         "title": {
          "text": "<b style=\"font-family: Times New Roman;\" >Age</b>"
         }
        },
        "yaxis": {
         "showgrid": true,
         "ticksuffix": " hrs",
         "title": {
          "text": "<b style=\"font-family: Times New Roman;\" >Time Spent</b>"
         }
        }
       }
      },
      "text/html": [
       "<div>                            <div id=\"bee9bf01-62fd-42d0-8c6d-c21ea13c9689\" class=\"plotly-graph-div\" style=\"height:525px; width:100%;\"></div>            <script type=\"text/javascript\">                require([\"plotly\"], function(Plotly) {                    window.PLOTLYENV=window.PLOTLYENV || {};                                    if (document.getElementById(\"bee9bf01-62fd-42d0-8c6d-c21ea13c9689\")) {                    Plotly.newPlot(                        \"bee9bf01-62fd-42d0-8c6d-c21ea13c9689\",                        [{\"line\":{\"color\":\"red\",\"width\":2.5},\"mode\":\"lines\",\"name\":\"alone\",\"x\":[15,16,17,18,19,20,21,22,23,24,25,26,27,28,29,30,31,32,33,34,35,36,37,38,39,40,41,42,43,44,45,46,47,48,49,50,51,52,53,54,55,56,57,58,59,60,61,62,63,64,65,66,67,68,69,70,71,72,73,74,75,76,77,78,79,80,85],\"y\":[3.22,3.44,3.74,4.04,4.46,4.63,4.5,4.73,4.52,4.43,4.59,4.69,4.32,4.35,4.23,4.17,4.22,4.25,4.08,4.39,4.38,4.55,4.45,4.32,4.7,4.64,4.87,4.97,5.36,5.21,5.15,5.45,5.64,5.54,5.66,6.02,6.14,6.35,6.2,6.3,6.4,6.45,6.65,6.83,6.86,6.89,6.91,7.09,7.18,7.48,7.4,7.2,7.23,7.47,7.38,7.48,7.41,7.91,7.52,7.64,7.72,7.61,7.57,7.69,8.1,7.95,8.36],\"type\":\"scatter\"},{\"line\":{\"color\":\"orange\",\"width\":2.5},\"mode\":\"lines\",\"name\":\"with friends\",\"x\":[15,16,17,18,19,20,21,22,23,24,25,26,27,28,29,30,31,32,33,34,35,36,37,38,39,40,41,42,43,44,45,46,47,48,49,50,51,52,53,54,55,56,57,58,59,60,61,62,63,64,65,66,67,68,69,70,71,72,73,74,75,76,77,78,79,80,85],\"y\":[1.82,1.85,2.01,2.3,2.16,2.05,2.04,1.67,1.68,1.61,1.29,1.3,1.24,1.04,0.92,0.89,0.85,0.82,0.83,0.71,0.69,0.67,0.72,0.7,0.56,0.6,0.65,0.64,0.65,0.65,0.6,0.62,0.65,0.56,0.62,0.48,0.59,0.57,0.53,0.58,0.55,0.61,0.52,0.59,0.48,0.6,0.55,0.57,0.6,0.59,0.6,0.68,0.65,0.69,0.7,0.76,0.74,0.74,0.61,0.68,0.65,0.69,0.56,0.65,0.7,0.59,0.61],\"type\":\"scatter\"},{\"line\":{\"color\":\"royalblue\",\"width\":2.5},\"mode\":\"lines\",\"name\":\"with children\",\"x\":[15,16,17,18,19,20,21,22,23,24,25,26,27,28,29,30,31,32,33,34,35,36,37,38,39,40,41,42,43,44,45,46,47,48,49,50,51,52,53,54,55,56,57,58,59,60,61,62,63,64,65,66,67,68,69,70,71,72,73,74,75,76,77,78,79,80,85],\"y\":[0.39,0.48,0.43,0.46,0.61,0.91,1.15,1.21,1.62,1.66,1.99,2.14,2.56,2.93,3.24,3.33,3.77,3.85,4.27,4.35,4.15,4.28,4.27,4.24,4.43,4.04,3.95,3.72,3.46,3.45,3.32,2.96,2.81,2.62,2.21,2.21,2.06,1.71,1.71,1.5,1.47,1.31,1.23,1.14,1.17,1.03,1.18,0.96,1.04,0.92,0.96,0.99,1.05,0.9,1.15,0.88,0.98,0.77,0.94,0.82,0.81,0.74,0.78,0.72,0.64,0.75,0.76],\"type\":\"scatter\"},{\"line\":{\"color\":\"green\",\"width\":2.5},\"mode\":\"lines\",\"name\":\"with family\",\"x\":[15,16,17,18,19,20,21,22,23,24,25,26,27,28,29,30,31,32,33,34,35,36,37,38,39,40,41,42,43,44,45,46,47,48,49,50,51,52,53,54,55,56,57,58,59,60,61,62,63,64,65,66,67,68,69,70,71,72,73,74,75,76,77,78,79,80,85],\"y\":[4.45,4.24,3.83,3.94,3.35,2.89,2.54,2.26,2.1,1.73,1.68,1.46,1.43,1.34,1.36,1.21,1.16,1.02,1.11,1.1,1.04,1.08,0.94,0.9,0.88,0.91,0.93,0.84,0.92,0.9,0.97,0.91,1.0,0.98,0.98,1.09,1.04,1.09,0.99,1.0,1.01,1.1,0.98,1.1,1.12,1.09,1.01,0.94,1.22,1.07,1.09,1.15,0.98,0.9,1.02,0.8,0.97,0.95,0.94,1.1,0.94,0.87,1.12,1.0,0.87,1.1,1.08],\"type\":\"scatter\"},{\"line\":{\"color\":\"magenta\",\"width\":2.5},\"mode\":\"lines\",\"name\":\"with partner\",\"x\":[15,16,17,18,19,20,21,22,23,24,25,26,27,28,29,30,31,32,33,34,35,36,37,38,39,40,41,42,43,44,45,46,47,48,49,50,51,52,53,54,55,56,57,58,59,60,61,62,63,64,65,66,67,68,69,70,71,72,73,74,75,76,77,78,79,80,85],\"y\":[0.0,0.0,0.02,0.09,0.32,0.44,1.0,0.93,1.3,1.66,2.02,2.33,2.53,2.8,2.94,3.0,3.4,3.2,3.33,3.32,3.3,3.29,3.4,3.39,3.53,3.37,3.24,3.04,3.03,3.2,3.07,3.11,3.02,3.3,3.24,2.92,3.13,3.18,3.15,3.05,3.07,3.27,3.09,3.11,3.33,3.41,3.42,3.73,3.87,3.86,4.04,4.26,4.3,4.34,4.51,4.36,4.44,4.35,4.6,4.24,4.22,4.44,4.55,4.27,3.92,3.78,2.64],\"type\":\"scatter\"},{\"line\":{\"color\":\"SaddleBrown\",\"width\":2.5},\"mode\":\"lines\",\"name\":\"with Coworkers\",\"x\":[15,16,17,18,19,20,21,22,23,24,25,26,27,28,29,30,31,32,33,34,35,36,37,38,39,40,41,42,43,44,45,46,47,48,49,50,51,52,53,54,55,56,57,58,59,60,61,62,63,64,65,66,67,68,69,70,71,72,73,74,75,76,77,78,79,80,85],\"y\":[0.14,0.39,0.73,1.36,2.08,2.4,2.57,2.88,3.17,3.43,3.32,3.17,3.52,3.54,3.32,3.59,3.32,3.38,3.12,2.99,3.18,2.98,3.14,3.28,2.88,3.12,2.99,3.16,2.83,3.04,3.04,2.98,2.86,2.83,3.13,2.8,2.87,2.93,2.8,3.07,2.72,2.57,2.63,2.34,2.34,2.1,2.11,1.61,1.31,1.3,1.04,0.85,0.74,0.65,0.45,0.45,0.36,0.34,0.31,0.24,0.27,0.33,0.21,0.05,0.08,0.09,0.06],\"type\":\"scatter\"}],                        {\"template\":{\"data\":{\"barpolar\":[{\"marker\":{\"line\":{\"color\":\"white\",\"width\":0.5},\"pattern\":{\"fillmode\":\"overlay\",\"size\":10,\"solidity\":0.2}},\"type\":\"barpolar\"}],\"bar\":[{\"error_x\":{\"color\":\"#2a3f5f\"},\"error_y\":{\"color\":\"#2a3f5f\"},\"marker\":{\"line\":{\"color\":\"white\",\"width\":0.5},\"pattern\":{\"fillmode\":\"overlay\",\"size\":10,\"solidity\":0.2}},\"type\":\"bar\"}],\"carpet\":[{\"aaxis\":{\"endlinecolor\":\"#2a3f5f\",\"gridcolor\":\"#C8D4E3\",\"linecolor\":\"#C8D4E3\",\"minorgridcolor\":\"#C8D4E3\",\"startlinecolor\":\"#2a3f5f\"},\"baxis\":{\"endlinecolor\":\"#2a3f5f\",\"gridcolor\":\"#C8D4E3\",\"linecolor\":\"#C8D4E3\",\"minorgridcolor\":\"#C8D4E3\",\"startlinecolor\":\"#2a3f5f\"},\"type\":\"carpet\"}],\"choropleth\":[{\"colorbar\":{\"outlinewidth\":0,\"ticks\":\"\"},\"type\":\"choropleth\"}],\"contourcarpet\":[{\"colorbar\":{\"outlinewidth\":0,\"ticks\":\"\"},\"type\":\"contourcarpet\"}],\"contour\":[{\"colorbar\":{\"outlinewidth\":0,\"ticks\":\"\"},\"colorscale\":[[0.0,\"#0d0887\"],[0.1111111111111111,\"#46039f\"],[0.2222222222222222,\"#7201a8\"],[0.3333333333333333,\"#9c179e\"],[0.4444444444444444,\"#bd3786\"],[0.5555555555555556,\"#d8576b\"],[0.6666666666666666,\"#ed7953\"],[0.7777777777777778,\"#fb9f3a\"],[0.8888888888888888,\"#fdca26\"],[1.0,\"#f0f921\"]],\"type\":\"contour\"}],\"heatmapgl\":[{\"colorbar\":{\"outlinewidth\":0,\"ticks\":\"\"},\"colorscale\":[[0.0,\"#0d0887\"],[0.1111111111111111,\"#46039f\"],[0.2222222222222222,\"#7201a8\"],[0.3333333333333333,\"#9c179e\"],[0.4444444444444444,\"#bd3786\"],[0.5555555555555556,\"#d8576b\"],[0.6666666666666666,\"#ed7953\"],[0.7777777777777778,\"#fb9f3a\"],[0.8888888888888888,\"#fdca26\"],[1.0,\"#f0f921\"]],\"type\":\"heatmapgl\"}],\"heatmap\":[{\"colorbar\":{\"outlinewidth\":0,\"ticks\":\"\"},\"colorscale\":[[0.0,\"#0d0887\"],[0.1111111111111111,\"#46039f\"],[0.2222222222222222,\"#7201a8\"],[0.3333333333333333,\"#9c179e\"],[0.4444444444444444,\"#bd3786\"],[0.5555555555555556,\"#d8576b\"],[0.6666666666666666,\"#ed7953\"],[0.7777777777777778,\"#fb9f3a\"],[0.8888888888888888,\"#fdca26\"],[1.0,\"#f0f921\"]],\"type\":\"heatmap\"}],\"histogram2dcontour\":[{\"colorbar\":{\"outlinewidth\":0,\"ticks\":\"\"},\"colorscale\":[[0.0,\"#0d0887\"],[0.1111111111111111,\"#46039f\"],[0.2222222222222222,\"#7201a8\"],[0.3333333333333333,\"#9c179e\"],[0.4444444444444444,\"#bd3786\"],[0.5555555555555556,\"#d8576b\"],[0.6666666666666666,\"#ed7953\"],[0.7777777777777778,\"#fb9f3a\"],[0.8888888888888888,\"#fdca26\"],[1.0,\"#f0f921\"]],\"type\":\"histogram2dcontour\"}],\"histogram2d\":[{\"colorbar\":{\"outlinewidth\":0,\"ticks\":\"\"},\"colorscale\":[[0.0,\"#0d0887\"],[0.1111111111111111,\"#46039f\"],[0.2222222222222222,\"#7201a8\"],[0.3333333333333333,\"#9c179e\"],[0.4444444444444444,\"#bd3786\"],[0.5555555555555556,\"#d8576b\"],[0.6666666666666666,\"#ed7953\"],[0.7777777777777778,\"#fb9f3a\"],[0.8888888888888888,\"#fdca26\"],[1.0,\"#f0f921\"]],\"type\":\"histogram2d\"}],\"histogram\":[{\"marker\":{\"pattern\":{\"fillmode\":\"overlay\",\"size\":10,\"solidity\":0.2}},\"type\":\"histogram\"}],\"mesh3d\":[{\"colorbar\":{\"outlinewidth\":0,\"ticks\":\"\"},\"type\":\"mesh3d\"}],\"parcoords\":[{\"line\":{\"colorbar\":{\"outlinewidth\":0,\"ticks\":\"\"}},\"type\":\"parcoords\"}],\"pie\":[{\"automargin\":true,\"type\":\"pie\"}],\"scatter3d\":[{\"line\":{\"colorbar\":{\"outlinewidth\":0,\"ticks\":\"\"}},\"marker\":{\"colorbar\":{\"outlinewidth\":0,\"ticks\":\"\"}},\"type\":\"scatter3d\"}],\"scattercarpet\":[{\"marker\":{\"colorbar\":{\"outlinewidth\":0,\"ticks\":\"\"}},\"type\":\"scattercarpet\"}],\"scattergeo\":[{\"marker\":{\"colorbar\":{\"outlinewidth\":0,\"ticks\":\"\"}},\"type\":\"scattergeo\"}],\"scattergl\":[{\"marker\":{\"colorbar\":{\"outlinewidth\":0,\"ticks\":\"\"}},\"type\":\"scattergl\"}],\"scattermapbox\":[{\"marker\":{\"colorbar\":{\"outlinewidth\":0,\"ticks\":\"\"}},\"type\":\"scattermapbox\"}],\"scatterpolargl\":[{\"marker\":{\"colorbar\":{\"outlinewidth\":0,\"ticks\":\"\"}},\"type\":\"scatterpolargl\"}],\"scatterpolar\":[{\"marker\":{\"colorbar\":{\"outlinewidth\":0,\"ticks\":\"\"}},\"type\":\"scatterpolar\"}],\"scatter\":[{\"fillpattern\":{\"fillmode\":\"overlay\",\"size\":10,\"solidity\":0.2},\"type\":\"scatter\"}],\"scatterternary\":[{\"marker\":{\"colorbar\":{\"outlinewidth\":0,\"ticks\":\"\"}},\"type\":\"scatterternary\"}],\"surface\":[{\"colorbar\":{\"outlinewidth\":0,\"ticks\":\"\"},\"colorscale\":[[0.0,\"#0d0887\"],[0.1111111111111111,\"#46039f\"],[0.2222222222222222,\"#7201a8\"],[0.3333333333333333,\"#9c179e\"],[0.4444444444444444,\"#bd3786\"],[0.5555555555555556,\"#d8576b\"],[0.6666666666666666,\"#ed7953\"],[0.7777777777777778,\"#fb9f3a\"],[0.8888888888888888,\"#fdca26\"],[1.0,\"#f0f921\"]],\"type\":\"surface\"}],\"table\":[{\"cells\":{\"fill\":{\"color\":\"#EBF0F8\"},\"line\":{\"color\":\"white\"}},\"header\":{\"fill\":{\"color\":\"#C8D4E3\"},\"line\":{\"color\":\"white\"}},\"type\":\"table\"}]},\"layout\":{\"annotationdefaults\":{\"arrowcolor\":\"#2a3f5f\",\"arrowhead\":0,\"arrowwidth\":1},\"autotypenumbers\":\"strict\",\"coloraxis\":{\"colorbar\":{\"outlinewidth\":0,\"ticks\":\"\"}},\"colorscale\":{\"diverging\":[[0,\"#8e0152\"],[0.1,\"#c51b7d\"],[0.2,\"#de77ae\"],[0.3,\"#f1b6da\"],[0.4,\"#fde0ef\"],[0.5,\"#f7f7f7\"],[0.6,\"#e6f5d0\"],[0.7,\"#b8e186\"],[0.8,\"#7fbc41\"],[0.9,\"#4d9221\"],[1,\"#276419\"]],\"sequential\":[[0.0,\"#0d0887\"],[0.1111111111111111,\"#46039f\"],[0.2222222222222222,\"#7201a8\"],[0.3333333333333333,\"#9c179e\"],[0.4444444444444444,\"#bd3786\"],[0.5555555555555556,\"#d8576b\"],[0.6666666666666666,\"#ed7953\"],[0.7777777777777778,\"#fb9f3a\"],[0.8888888888888888,\"#fdca26\"],[1.0,\"#f0f921\"]],\"sequentialminus\":[[0.0,\"#0d0887\"],[0.1111111111111111,\"#46039f\"],[0.2222222222222222,\"#7201a8\"],[0.3333333333333333,\"#9c179e\"],[0.4444444444444444,\"#bd3786\"],[0.5555555555555556,\"#d8576b\"],[0.6666666666666666,\"#ed7953\"],[0.7777777777777778,\"#fb9f3a\"],[0.8888888888888888,\"#fdca26\"],[1.0,\"#f0f921\"]]},\"colorway\":[\"#636efa\",\"#EF553B\",\"#00cc96\",\"#ab63fa\",\"#FFA15A\",\"#19d3f3\",\"#FF6692\",\"#B6E880\",\"#FF97FF\",\"#FECB52\"],\"font\":{\"color\":\"#2a3f5f\"},\"geo\":{\"bgcolor\":\"white\",\"lakecolor\":\"white\",\"landcolor\":\"white\",\"showlakes\":true,\"showland\":true,\"subunitcolor\":\"#C8D4E3\"},\"hoverlabel\":{\"align\":\"left\"},\"hovermode\":\"closest\",\"mapbox\":{\"style\":\"light\"},\"paper_bgcolor\":\"white\",\"plot_bgcolor\":\"white\",\"polar\":{\"angularaxis\":{\"gridcolor\":\"#EBF0F8\",\"linecolor\":\"#EBF0F8\",\"ticks\":\"\"},\"bgcolor\":\"white\",\"radialaxis\":{\"gridcolor\":\"#EBF0F8\",\"linecolor\":\"#EBF0F8\",\"ticks\":\"\"}},\"scene\":{\"xaxis\":{\"backgroundcolor\":\"white\",\"gridcolor\":\"#DFE8F3\",\"gridwidth\":2,\"linecolor\":\"#EBF0F8\",\"showbackground\":true,\"ticks\":\"\",\"zerolinecolor\":\"#EBF0F8\"},\"yaxis\":{\"backgroundcolor\":\"white\",\"gridcolor\":\"#DFE8F3\",\"gridwidth\":2,\"linecolor\":\"#EBF0F8\",\"showbackground\":true,\"ticks\":\"\",\"zerolinecolor\":\"#EBF0F8\"},\"zaxis\":{\"backgroundcolor\":\"white\",\"gridcolor\":\"#DFE8F3\",\"gridwidth\":2,\"linecolor\":\"#EBF0F8\",\"showbackground\":true,\"ticks\":\"\",\"zerolinecolor\":\"#EBF0F8\"}},\"shapedefaults\":{\"line\":{\"color\":\"#2a3f5f\"}},\"ternary\":{\"aaxis\":{\"gridcolor\":\"#DFE8F3\",\"linecolor\":\"#A2B1C6\",\"ticks\":\"\"},\"baxis\":{\"gridcolor\":\"#DFE8F3\",\"linecolor\":\"#A2B1C6\",\"ticks\":\"\"},\"bgcolor\":\"white\",\"caxis\":{\"gridcolor\":\"#DFE8F3\",\"linecolor\":\"#A2B1C6\",\"ticks\":\"\"}},\"title\":{\"x\":0.05},\"xaxis\":{\"automargin\":true,\"gridcolor\":\"#EBF0F8\",\"linecolor\":\"#EBF0F8\",\"ticks\":\"\",\"title\":{\"standoff\":15},\"zerolinecolor\":\"#EBF0F8\",\"zerolinewidth\":2},\"yaxis\":{\"automargin\":true,\"gridcolor\":\"#EBF0F8\",\"linecolor\":\"#EBF0F8\",\"ticks\":\"\",\"title\":{\"standoff\":15},\"zerolinecolor\":\"#EBF0F8\",\"zerolinewidth\":2}}},\"showlegend\":false,\"hovermode\":\"x\",\"yaxis\":{\"title\":{\"text\":\"<b style=\\\"font-family: Times New Roman;\\\" >Time Spent</b>\"},\"ticksuffix\":\" hrs\",\"showgrid\":true},\"xaxis\":{\"title\":{\"text\":\"<b style=\\\"font-family: Times New Roman;\\\" >Age</b>\"}},\"margin\":{\"r\":125,\"t\":100,\"b\":70},\"annotations\":[{\"showarrow\":false,\"text\":\"<b style=\\\"color:red; font-size:0.9vw\\\">Alone</b>\",\"x\":1.07,\"xref\":\"paper\",\"y\":0.98,\"yref\":\"paper\"},{\"showarrow\":false,\"text\":\"<b style=\\\"color:magenta; font-size:0.9vw\\\">with Partner</b>\",\"x\":1.12,\"xref\":\"paper\",\"y\":0.32,\"yref\":\"paper\"},{\"showarrow\":false,\"text\":\"<b style=\\\"color:green; font-size:0.9vw\\\">with Family</b>\",\"x\":1.12,\"xref\":\"paper\",\"y\":0.16,\"yref\":\"paper\"},{\"showarrow\":false,\"text\":\"<b style=\\\"color:blue; font-size:0.9vw\\\">with Children</b>\",\"x\":1.134,\"xref\":\"paper\",\"y\":0.12,\"yref\":\"paper\"},{\"showarrow\":false,\"text\":\"<b style=\\\"color:orange; font-size:0.9vw\\\">with Friends</b>\",\"x\":1.123,\"xref\":\"paper\",\"y\":0.08,\"yref\":\"paper\"},{\"showarrow\":false,\"text\":\"<b style=\\\"color:SaddleBrown; font-size:0.9vw\\\">with Coworkers</b>\",\"x\":1.155,\"xref\":\"paper\",\"y\":0.03,\"yref\":\"paper\"},{\"showarrow\":false,\"text\":\"<b style=\\\"font-family: Times New Roman; font-size:1vw\\\">Source: </b><b style=\\\"font-family: Times New Roman; font-size:1vw\\\"> American Time Use Survey (2009-2019)</b>\",\"x\":0,\"xref\":\"paper\",\"y\":-0.18,\"yref\":\"paper\"},{\"showarrow\":false,\"text\":\"<b style=\\\"font-family: Times New Roman; font-size:0.9vw\\\"> \\u00a9 Plotly</b>\",\"x\":1,\"xref\":\"paper\",\"y\":-0.18,\"yref\":\"paper\"}],\"title\":{\"text\":\"<b style=\\\"font-family: Times New Roman; font-size:1.6vw\\\">Who Americans spend their time with, by age</b><br><b style=\\\"font-family: Times New Roman; font-size:1.1vw\\\">Average time spent with others is measured in minutes per day, and shown by the age of the respondent. This<br>is based on averages from surveys between 2009 and 2019.</b>\"}},                        {\"responsive\": true}                    ).then(function(){\n",
       "                            \n",
       "var gd = document.getElementById('bee9bf01-62fd-42d0-8c6d-c21ea13c9689');\n",
       "var x = new MutationObserver(function (mutations, observer) {{\n",
       "        var display = window.getComputedStyle(gd).display;\n",
       "        if (!display || display === 'none') {{\n",
       "            console.log([gd, 'removed!']);\n",
       "            Plotly.purge(gd);\n",
       "            observer.disconnect();\n",
       "        }}\n",
       "}});\n",
       "\n",
       "// Listen for the removal of the full notebook cells\n",
       "var notebookContainer = gd.closest('#notebook-container');\n",
       "if (notebookContainer) {{\n",
       "    x.observe(notebookContainer, {childList: true});\n",
       "}}\n",
       "\n",
       "// Listen for the clearing of the current output cell\n",
       "var outputEl = gd.closest('.output');\n",
       "if (outputEl) {{\n",
       "    x.observe(outputEl, {childList: true});\n",
       "}}\n",
       "\n",
       "                        })                };                });            </script>        </div>"
      ]
     },
     "metadata": {},
     "output_type": "display_data"
    }
   ],
   "source": [
    "fig = go.Figure()\n",
    "fig.add_trace(go.Scatter(x=df['Year'], y=df['Time spent alone'],mode='lines',name='alone',line=dict(color='red', width=2.5)))\n",
    "fig.add_trace(go.Scatter(x=df['Year'], y=df['Time spent with friends'],mode='lines',name='with friends',line=dict(color='orange', width=2.5)))\n",
    "fig.add_trace(go.Scatter(x=df['Year'], y=df['Time spent with children'],mode='lines',name='with children',line=dict(color='royalblue', width=2.5)))\n",
    "fig.add_trace(go.Scatter(x=df['Year'], y=df['Time spent with parents, siblings and other family'],mode='lines',name='with family',line=dict(color='green', width=2.5)))\n",
    "fig.add_trace(go.Scatter(x=df['Year'], y=df['Time spent with partner'],mode='lines',name='with partner',line=dict(color='magenta', width=2.5)))\n",
    "fig.add_trace(go.Scatter(x=df['Year'], y=df['Time spent with coworkers'],mode='lines',name='with Coworkers',line=dict(color='SaddleBrown', width=2.5)))\n",
    "fig.update_layout(showlegend=False,template='plotly_white',hovermode='x')\n",
    "fig.update_yaxes(title_text='<b style=\"font-family: Times New Roman;\" >Time Spent</b>')\n",
    "fig.update_xaxes(title_text='<b style=\"font-family: Times New Roman;\" >Age</b>')\n",
    "fig.update_layout(margin=dict(r=125,t=100,b=70))\n",
    "fig.update_yaxes( # the y-axis is in mins\n",
    "    ticksuffix=\" hrs\", showgrid=True\n",
    ")\n",
    "fig.add_annotation(\n",
    "                   y=0.98,\n",
    "                   x=1.07,\n",
    "                   text=\"<b style=\\\"color:red; font-size:0.9vw\\\">Alone</b>\",\n",
    "                   showarrow=False,\n",
    "                   xref=\"paper\",\n",
    "                   yref=\"paper\")\n",
    "fig.add_annotation(\n",
    "                   y=0.32,\n",
    "                   x=1.12,\n",
    "                   text=\"<b style=\\\"color:magenta; font-size:0.9vw\\\">with Partner</b>\",\n",
    "                   showarrow=False,\n",
    "                   xref=\"paper\",\n",
    "                   yref=\"paper\")\n",
    "fig.add_annotation(\n",
    "                   y=0.16,\n",
    "                   x=1.12,\n",
    "                   text=\"<b style=\\\"color:green; font-size:0.9vw\\\">with Family</b>\",\n",
    "                   showarrow=False,\n",
    "                   xref=\"paper\",\n",
    "                   yref=\"paper\")\n",
    "fig.add_annotation(\n",
    "                   y=0.12,\n",
    "                   x=1.134,\n",
    "                   text=\"<b style=\\\"color:blue; font-size:0.9vw\\\">with Children</b>\",\n",
    "                   showarrow=False,\n",
    "                   xref=\"paper\",\n",
    "                   yref=\"paper\")\n",
    "fig.add_annotation(\n",
    "                   y=0.08,\n",
    "                   x=1.123,\n",
    "                   text=\"<b style=\\\"color:orange; font-size:0.9vw\\\">with Friends</b>\",\n",
    "                   showarrow=False,\n",
    "                   xref=\"paper\",\n",
    "                   yref=\"paper\")\n",
    "fig.add_annotation(\n",
    "                   y=0.03,\n",
    "                   x=1.155,\n",
    "                   text=\"<b style=\\\"color:SaddleBrown; font-size:0.9vw\\\">with Coworkers</b>\",\n",
    "                   showarrow=False,\n",
    "                   xref=\"paper\",\n",
    "                   yref=\"paper\")\n",
    "fig.add_annotation(\n",
    "                   y=-0.18,\n",
    "                   x=0,\n",
    "                   text=\"<b style=\\\"font-family: Times New Roman; font-size:1vw\\\">Source: </b><b style=\\\"font-family: Times New Roman; font-size:1vw\\\"> American Time Use Survey (2009-2019)</b>\",\n",
    "                   showarrow=False,\n",
    "                   xref=\"paper\",\n",
    "                   yref=\"paper\")\n",
    "fig.add_annotation(\n",
    "                   y=-0.18,\n",
    "                   x=1,\n",
    "                   text=\"<b style=\\\"font-family: Times New Roman; font-size:0.9vw\\\"> © Plotly</b>\",\n",
    "                   showarrow=False,\n",
    "                   xref=\"paper\",\n",
    "                   yref=\"paper\")\n",
    "fig.update_layout(title_text='<b style=\"font-family: Times New Roman; font-size:1.6vw\">Who Americans spend their time with, by age</b><br><b style=\"font-family: Times New Roman; font-size:1.1vw\">Average time spent with others is measured in minutes per day, and shown by the age of the respondent. This<br>is based on averages from surveys between 2009 and 2019.</b>')\n",
    "\n",
    "fig.show()"
   ]
  },
  {
   "attachments": {
    "viz1.png": {
     "image/png": "[encoded data removed]"
    }
   },
   "cell_type": "markdown",
   "id": "bf94bcc2",
   "metadata": {},
   "source": [
    "![viz1.png](attachment:viz1.png)"
   ]
  },
  {
   "cell_type": "markdown",
   "id": "3ccec18f",
   "metadata": {},
   "source": [
    "<div style=\"color:white;\n",
    "            display:fill;\n",
    "            border-radius:15px;\n",
    "            background-color:white;\n",
    "            font-size:130%;\n",
    "            font-family:Verdana;\n",
    "            letter-spacing:1px\">\n",
    "    <h3 style='padding: 20px;\n",
    "              color:black;\n",
    "               border:black;\n",
    "               border-width:2.5px;\n",
    "               border-style:solid;\n",
    "              font-family: Times New Roman;\n",
    "              text-align:center;'>\n",
    "         Young Age to AdultHood\n",
    "    </h3>\n",
    "    </div>"
   ]
  },
  {
   "cell_type": "code",
   "execution_count": 7,
   "id": "b203c774",
   "metadata": {},
   "outputs": [
    {
     "data": {
      "text/html": [
       "<style type=\"text/css\">\n",
       "#T_8889b_row0_col0, #T_8889b_row0_col1, #T_8889b_row0_col2, #T_8889b_row0_col3, #T_8889b_row1_col0, #T_8889b_row1_col1, #T_8889b_row1_col2, #T_8889b_row1_col3, #T_8889b_row2_col0, #T_8889b_row2_col1, #T_8889b_row2_col2, #T_8889b_row2_col3 {\n",
       "  border: 1.3px solid black;\n",
       "  color: blue;\n",
       "}\n",
       "</style>\n",
       "<table id=\"T_8889b_\">\n",
       "  <thead>\n",
       "    <tr>\n",
       "      <th class=\"blank level0\" >&nbsp;</th>\n",
       "      <th class=\"col_heading level0 col0\" >Age</th>\n",
       "      <th class=\"col_heading level0 col1\" >Maximum Time Spent</th>\n",
       "      <th class=\"col_heading level0 col2\" >Second</th>\n",
       "      <th class=\"col_heading level0 col3\" >Third</th>\n",
       "    </tr>\n",
       "  </thead>\n",
       "  <tbody>\n",
       "    <tr>\n",
       "      <th id=\"T_8889b_level0_row0\" class=\"row_heading level0 row0\" >0</th>\n",
       "      <td id=\"T_8889b_row0_col0\" class=\"data row0 col0\" >15</td>\n",
       "      <td id=\"T_8889b_row0_col1\" class=\"data row0 col1\" >Parents - 267 mins</td>\n",
       "      <td id=\"T_8889b_row0_col2\" class=\"data row0 col2\" >Alone - 193 mins</td>\n",
       "      <td id=\"T_8889b_row0_col3\" class=\"data row0 col3\" >Friends - 109 mins</td>\n",
       "    </tr>\n",
       "    <tr>\n",
       "      <th id=\"T_8889b_level0_row1\" class=\"row_heading level0 row1\" >1</th>\n",
       "      <td id=\"T_8889b_row1_col0\" class=\"data row1 col0\" >25</td>\n",
       "      <td id=\"T_8889b_row1_col1\" class=\"data row1 col1\" >Alone - 275 mins</td>\n",
       "      <td id=\"T_8889b_row1_col2\" class=\"data row1 col2\" >Coworkers - 199 mins</td>\n",
       "      <td id=\"T_8889b_row1_col3\" class=\"data row1 col3\" >Partner - 121 mins</td>\n",
       "    </tr>\n",
       "    <tr>\n",
       "      <th id=\"T_8889b_level0_row2\" class=\"row_heading level0 row2\" >2</th>\n",
       "      <td id=\"T_8889b_row2_col0\" class=\"data row2 col0\" >35</td>\n",
       "      <td id=\"T_8889b_row2_col1\" class=\"data row2 col1\" >Alone - 262 mins</td>\n",
       "      <td id=\"T_8889b_row2_col2\" class=\"data row2 col2\" >Children - 248 mins</td>\n",
       "      <td id=\"T_8889b_row2_col3\" class=\"data row2 col3\" >Partner - 198 mins</td>\n",
       "    </tr>\n",
       "  </tbody>\n",
       "</table>\n"
      ],
      "text/plain": [
       "<pandas.io.formats.style.Styler at 0x1898e85ebb0>"
      ]
     },
     "execution_count": 7,
     "metadata": {},
     "output_type": "execute_result"
    }
   ],
   "source": [
    "pd.DataFrame({'Age':[15,25,35],'Maximum Time Spent':['Parents - 267 mins','Alone - 275 mins','Alone - 262 mins'],'Second':['Alone - 193 mins','Coworkers - 199 mins','Children - 248 mins'],'Third':['Friends - 109 mins','Partner - 121 mins','Partner - 198 mins']}).style.set_properties(**{'border': '1.3px solid black',\n",
    "                          'color': 'blue'})"
   ]
  },
  {
   "cell_type": "markdown",
   "id": "44577498",
   "metadata": {},
   "source": [
    "<p>Upon turning 45, the average person spends 309 minutes a day alone, and in second place, 199 minutes with children.By age 55, time spent alone still takes top spot, but time spent with a partner goes up to 184 minutes, and time with coworkers also moves up, pushing out time spent with children.</p>\n",
    "\n",
    "<p>when a person entering into their 50's they started spending more time with their partners and by turning 60's spending time on themselves increases more nearly 7.4 hours and ~ 4 hours with their partners and spending around 1 hour with their families.</p>  "
   ]
  },
  {
   "cell_type": "markdown",
   "id": "477939dd",
   "metadata": {},
   "source": [
    "<div style=\"color:white;\n",
    "            display:fill;\n",
    "            border-radius:15px;\n",
    "            background-color:white;\n",
    "            font-size:130%;\n",
    "            font-family:Verdana;\n",
    "            letter-spacing:1px\">\n",
    "    <h3 style='padding: 20px;\n",
    "              color:black;\n",
    "               border:black;\n",
    "               border-width:2.5px;\n",
    "               border-style:solid;\n",
    "              font-family: Times New Roman;\n",
    "              text-align:center;'>\n",
    "        Middle Age Group\n",
    "    </h3>\n",
    "    </div>"
   ]
  },
  {
   "cell_type": "code",
   "execution_count": 8,
   "id": "aea2ad0c",
   "metadata": {},
   "outputs": [
    {
     "data": {
      "text/html": [
       "<style type=\"text/css\">\n",
       "#T_5ca9f_row0_col0, #T_5ca9f_row0_col1, #T_5ca9f_row0_col2, #T_5ca9f_row0_col3, #T_5ca9f_row1_col0, #T_5ca9f_row1_col1, #T_5ca9f_row1_col2, #T_5ca9f_row1_col3, #T_5ca9f_row2_col0, #T_5ca9f_row2_col1, #T_5ca9f_row2_col2, #T_5ca9f_row2_col3 {\n",
       "  border: 1.3px solid black;\n",
       "  color: green;\n",
       "}\n",
       "</style>\n",
       "<table id=\"T_5ca9f_\">\n",
       "  <thead>\n",
       "    <tr>\n",
       "      <th class=\"blank level0\" >&nbsp;</th>\n",
       "      <th class=\"col_heading level0 col0\" >Age</th>\n",
       "      <th class=\"col_heading level0 col1\" >Maximum Time Spent</th>\n",
       "      <th class=\"col_heading level0 col2\" >Second</th>\n",
       "      <th class=\"col_heading level0 col3\" >Third</th>\n",
       "    </tr>\n",
       "  </thead>\n",
       "  <tbody>\n",
       "    <tr>\n",
       "      <th id=\"T_5ca9f_level0_row0\" class=\"row_heading level0 row0\" >0</th>\n",
       "      <td id=\"T_5ca9f_row0_col0\" class=\"data row0 col0\" >45</td>\n",
       "      <td id=\"T_5ca9f_row0_col1\" class=\"data row0 col1\" >Alone - 309 mins</td>\n",
       "      <td id=\"T_5ca9f_row0_col2\" class=\"data row0 col2\" >Children - 199 mins</td>\n",
       "      <td id=\"T_5ca9f_row0_col3\" class=\"data row0 col3\" >Partner - 183 mins</td>\n",
       "    </tr>\n",
       "    <tr>\n",
       "      <th id=\"T_5ca9f_level0_row1\" class=\"row_heading level0 row1\" >1</th>\n",
       "      <td id=\"T_5ca9f_row1_col0\" class=\"data row1 col0\" >55</td>\n",
       "      <td id=\"T_5ca9f_row1_col1\" class=\"data row1 col1\" >Alone - 384 mins</td>\n",
       "      <td id=\"T_5ca9f_row1_col2\" class=\"data row1 col2\" >Partner - 184 mins</td>\n",
       "      <td id=\"T_5ca9f_row1_col3\" class=\"data row1 col3\" >Cowokers - 162 mins</td>\n",
       "    </tr>\n",
       "    <tr>\n",
       "      <th id=\"T_5ca9f_level0_row2\" class=\"row_heading level0 row2\" >2</th>\n",
       "      <td id=\"T_5ca9f_row2_col0\" class=\"data row2 col0\" >65</td>\n",
       "      <td id=\"T_5ca9f_row2_col1\" class=\"data row2 col1\" >Alone - 444 mins</td>\n",
       "      <td id=\"T_5ca9f_row2_col2\" class=\"data row2 col2\" >Partner - 242 mins</td>\n",
       "      <td id=\"T_5ca9f_row2_col3\" class=\"data row2 col3\" >Family - 65 mins</td>\n",
       "    </tr>\n",
       "  </tbody>\n",
       "</table>\n"
      ],
      "text/plain": [
       "<pandas.io.formats.style.Styler at 0x1898e6c1550>"
      ]
     },
     "execution_count": 8,
     "metadata": {},
     "output_type": "execute_result"
    }
   ],
   "source": [
    "pd.DataFrame({'Age':[45,55,65],'Maximum Time Spent':['Alone - 309 mins','Alone - 384 mins','Alone - 444 mins'],'Second':['Children - 199 mins','Partner - 184 mins','Partner - 242 mins'],'Third':['Partner - 183 mins','Cowokers - 162 mins','Family - 65 mins']}).style.set_properties(**{'border': '1.3px solid black',\n",
    "                          'color': 'green'})"
   ]
  },
  {
   "cell_type": "markdown",
   "id": "9aa6cac1",
   "metadata": {},
   "source": [
    "<p>As people get closer to old age, around 65-years-old, they spend increasingly less time with coworkers as they begin to retire, and much more time alone or with a spouse. Then, from age 65-75, people consistently spend the most time alone, then with a partner and family.By the time someone reaches 80, their daily minutes alone goes up to 477. This can be a problematic reality. As the population continues to age in many countries around the world, more elderly people are left without resources or social connection.</p>"
   ]
  },
  {
   "cell_type": "markdown",
   "id": "133d8362",
   "metadata": {},
   "source": [
    "<div style=\"color:white;\n",
    "            display:fill;\n",
    "            border-radius:15px;\n",
    "            background-color:white;\n",
    "            font-size:130%;\n",
    "            font-family:Verdana;\n",
    "            letter-spacing:1px\">\n",
    "    <h3 style='padding: 20px;\n",
    "              color:black;\n",
    "               border:black;\n",
    "               border-width:2.5px;\n",
    "               border-style:solid;\n",
    "              font-family: Times New Roman;\n",
    "              text-align:center;'>\n",
    "        Old Age Group\n",
    "    </h3>\n",
    "    </div>"
   ]
  },
  {
   "cell_type": "code",
   "execution_count": 9,
   "id": "b41b1d40",
   "metadata": {},
   "outputs": [
    {
     "data": {
      "text/html": [
       "<style type=\"text/css\">\n",
       "#T_a254a_row0_col0, #T_a254a_row0_col1, #T_a254a_row0_col2, #T_a254a_row0_col3, #T_a254a_row1_col0, #T_a254a_row1_col1, #T_a254a_row1_col2, #T_a254a_row1_col3 {\n",
       "  border: 1.3px solid black;\n",
       "  color: purple;\n",
       "}\n",
       "</style>\n",
       "<table id=\"T_a254a_\">\n",
       "  <thead>\n",
       "    <tr>\n",
       "      <th class=\"blank level0\" >&nbsp;</th>\n",
       "      <th class=\"col_heading level0 col0\" >Age</th>\n",
       "      <th class=\"col_heading level0 col1\" >Maximum Time Spent</th>\n",
       "      <th class=\"col_heading level0 col2\" >Second</th>\n",
       "      <th class=\"col_heading level0 col3\" >Third</th>\n",
       "    </tr>\n",
       "  </thead>\n",
       "  <tbody>\n",
       "    <tr>\n",
       "      <th id=\"T_a254a_level0_row0\" class=\"row_heading level0 row0\" >0</th>\n",
       "      <td id=\"T_a254a_row0_col0\" class=\"data row0 col0\" >75</td>\n",
       "      <td id=\"T_a254a_row0_col1\" class=\"data row0 col1\" >Alone - 463 mins</td>\n",
       "      <td id=\"T_a254a_row0_col2\" class=\"data row0 col2\" >Partner - 252 mins</td>\n",
       "      <td id=\"T_a254a_row0_col3\" class=\"data row0 col3\" >Family - 56 mins</td>\n",
       "    </tr>\n",
       "    <tr>\n",
       "      <th id=\"T_a254a_level0_row1\" class=\"row_heading level0 row1\" >1</th>\n",
       "      <td id=\"T_a254a_row1_col0\" class=\"data row1 col0\" >85</td>\n",
       "      <td id=\"T_a254a_row1_col1\" class=\"data row1 col1\" >Alone - 501 mins</td>\n",
       "      <td id=\"T_a254a_row1_col2\" class=\"data row1 col2\" >Partner - 158 mins</td>\n",
       "      <td id=\"T_a254a_row1_col3\" class=\"data row1 col3\" >Family - 65 mins</td>\n",
       "    </tr>\n",
       "  </tbody>\n",
       "</table>\n"
      ],
      "text/plain": [
       "<pandas.io.formats.style.Styler at 0x1898e85e2e0>"
      ]
     },
     "execution_count": 9,
     "metadata": {},
     "output_type": "execute_result"
    }
   ],
   "source": [
    "pd.DataFrame({'Age':[75,85],'Maximum Time Spent':['Alone - 463 mins','Alone - 501 mins'],'Second':['Partner - 252 mins','Partner - 158 mins'],'Third':['Family - 56 mins','Family - 65 mins']}).style.set_properties(**{'border': '1.3px solid black',\n",
    "                          'color': 'purple'})"
   ]
  },
  {
   "cell_type": "code",
   "execution_count": 10,
   "id": "bcda3c37",
   "metadata": {},
   "outputs": [],
   "source": [
    "df1=pd.read_csv(r\"C:\\Users\\Varun Sai Kanuri\\Downloads\\percentage-of-americans-living-alone-by-age.csv\")"
   ]
  },
  {
   "cell_type": "code",
   "execution_count": 11,
   "id": "2ca4a223",
   "metadata": {},
   "outputs": [],
   "source": [
    "df1.rename(columns={'Entity':'Age','Percentage of Americans living alone, by age, total (IPUMS)':'Living alone'},inplace=True)\n",
    "df1.drop('Code',axis=1,inplace=True)"
   ]
  },
  {
   "cell_type": "code",
   "execution_count": 12,
   "id": "0c9a1670",
   "metadata": {},
   "outputs": [
    {
     "data": {
      "application/vnd.plotly.v1+json": {
       "config": {
        "plotlyServerURL": "https://plot.ly"
       },
       "data": [
        {
         "legendgroup": "Age 18",
         "line": {
          "color": "#1F77B4",
          "dash": "solid"
         },
         "marker": {
          "symbol": "circle"
         },
         "mode": "markers+lines",
         "name": "Age 18",
         "orientation": "v",
         "showlegend": true,
         "type": "scatter",
         "x": [
          1900,
          1920,
          1940,
          1960,
          1980,
          2000,
          2018
         ],
         "xaxis": "x",
         "y": [
          0.2826103,
          0.29753187,
          0.16828842,
          0.50808835,
          1.0791981,
          0.88557899,
          0.54856783
         ],
         "yaxis": "y"
        },
        {
         "legendgroup": "Age 21",
         "line": {
          "color": "#FF7F0E",
          "dash": "solid"
         },
         "marker": {
          "symbol": "circle"
         },
         "mode": "markers+lines",
         "name": "Age 21",
         "orientation": "v",
         "showlegend": true,
         "type": "scatter",
         "x": [
          1900,
          1920,
          1940,
          1960,
          1980,
          2000,
          2018
         ],
         "xaxis": "x",
         "y": [
          0.8530516,
          0.61699224,
          0.65782249,
          1.6465194,
          5.5592036,
          4.7959294,
          3.7633936
         ],
         "yaxis": "y"
        },
        {
         "legendgroup": "Age 30",
         "line": {
          "color": "#2CA02C",
          "dash": "solid"
         },
         "marker": {
          "symbol": "circle"
         },
         "mode": "markers+lines",
         "name": "Age 30",
         "orientation": "v",
         "showlegend": true,
         "type": "scatter",
         "x": [
          1900,
          1920,
          1940,
          1960,
          1980,
          2000,
          2018
         ],
         "xaxis": "x",
         "y": [
          1.4475262,
          1.0820333,
          1.5331241,
          2.4077144,
          8.9690161,
          9.7933722,
          9.47083
         ],
         "yaxis": "y"
        },
        {
         "legendgroup": "Age 45",
         "line": {
          "color": "#D62728",
          "dash": "solid"
         },
         "marker": {
          "symbol": "circle"
         },
         "mode": "markers+lines",
         "name": "Age 45",
         "orientation": "v",
         "showlegend": true,
         "type": "scatter",
         "x": [
          1900,
          1920,
          1940,
          1960,
          1980,
          2000,
          2018
         ],
         "xaxis": "x",
         "y": [
          2.0883126,
          2.2757423,
          2.8379524,
          3.8069024,
          6.1046829,
          10.512973,
          9.170002
         ],
         "yaxis": "y"
        },
        {
         "legendgroup": "Age 60",
         "line": {
          "color": "#9467BD",
          "dash": "solid"
         },
         "marker": {
          "symbol": "circle"
         },
         "mode": "markers+lines",
         "name": "Age 60",
         "orientation": "v",
         "showlegend": true,
         "type": "scatter",
         "x": [
          1900,
          1920,
          1940,
          1960,
          1980,
          2000,
          2018
         ],
         "xaxis": "x",
         "y": [
          4.2898355,
          4.8850908,
          6.3180275,
          10.958211,
          13.569151,
          15.704637,
          17.681852
         ],
         "yaxis": "y"
        },
        {
         "legendgroup": "Age 75",
         "line": {
          "color": "#8C564B",
          "dash": "solid"
         },
         "marker": {
          "symbol": "circle"
         },
         "mode": "markers+lines",
         "name": "Age 75",
         "orientation": "v",
         "showlegend": true,
         "type": "scatter",
         "x": [
          1900,
          1920,
          1940,
          1960,
          1980,
          2000,
          2018
         ],
         "xaxis": "x",
         "y": [
          6.4125099,
          8.3861637,
          12.162309,
          20.639933,
          31.746202,
          28.880363,
          24.76524
         ],
         "yaxis": "y"
        },
        {
         "legendgroup": "Age 89",
         "line": {
          "color": "#E377C2",
          "dash": "solid"
         },
         "marker": {
          "symbol": "circle"
         },
         "mode": "markers+lines",
         "name": "Age 89",
         "orientation": "v",
         "showlegend": true,
         "type": "scatter",
         "x": [
          1900,
          1920,
          1940,
          1960,
          1980,
          2000,
          2018
         ],
         "xaxis": "x",
         "y": [
          3.0029743,
          5.5308571,
          8.7714338,
          14.518483,
          29.159912,
          40.842579,
          41.961132
         ],
         "yaxis": "y"
        }
       ],
       "layout": {
        "annotations": [
         {
          "showarrow": false,
          "text": "<b style=\"color:magenta; font-size:0.9vw\">Age 89</b>",
          "x": 1.02,
          "xref": "paper",
          "y": 0.98,
          "yref": "paper"
         },
         {
          "showarrow": false,
          "text": "<b style=\"color:SaddleBrown; font-size:0.9vw\">Age 75</b>",
          "x": 1.02,
          "xref": "paper",
          "y": 0.58,
          "yref": "paper"
         },
         {
          "showarrow": false,
          "text": "<b style=\"color:BlueViolet; font-size:0.9vw\">Age 60</b>",
          "x": 1.02,
          "xref": "paper",
          "y": 0.42,
          "yref": "paper"
         },
         {
          "showarrow": false,
          "text": "<b style=\"color:LimeGreen; font-size:0.9vw\">Age 30</b>",
          "x": 1.04,
          "xref": "paper",
          "y": 0.25,
          "yref": "paper"
         },
         {
          "showarrow": false,
          "text": "<b style=\"color:red; font-size:0.9vw\">Age 45</b>",
          "x": 1.04,
          "xref": "paper",
          "y": 0.2,
          "yref": "paper"
         },
         {
          "showarrow": false,
          "text": "<b style=\"color:orange; font-size:0.9vw\">Age 21</b>",
          "x": 1.04,
          "xref": "paper",
          "y": 0.11,
          "yref": "paper"
         },
         {
          "showarrow": false,
          "text": "<b style=\"color:CornflowerBlue; font-size:0.9vw\">Age 18</b>",
          "x": 1.04,
          "xref": "paper",
          "y": 0.05,
          "yref": "paper"
         },
         {
          "showarrow": false,
          "text": "<b style=\"font-family: Times New Roman; font-size:01vw\">Source: </b><b style=\"font-family: Times New Roman; font-size:0.9vw\"> American Time Use Survey (2009-2019)</b>",
          "x": 0,
          "xref": "paper",
          "y": -0.18,
          "yref": "paper"
         },
         {
          "showarrow": false,
          "text": "<b style=\"font-family: Times New Roman; font-size:0.9vw\"> © Plotly</b>",
          "x": 1,
          "xref": "paper",
          "y": -0.18,
          "yref": "paper"
         }
        ],
        "hovermode": "x unified",
        "legend": {
         "title": {
          "text": "Age"
         },
         "tracegroupgap": 0
        },
        "margin": {
         "b": 70,
         "r": 112,
         "t": 100
        },
        "showlegend": false,
        "template": {
         "data": {
          "bar": [
           {
            "error_x": {
             "color": "rgb(36,36,36)"
            },
            "error_y": {
             "color": "rgb(36,36,36)"
            },
            "marker": {
             "line": {
              "color": "white",
              "width": 0.5
             },
             "pattern": {
              "fillmode": "overlay",
              "size": 10,
              "solidity": 0.2
             }
            },
            "type": "bar"
           }
          ],
          "barpolar": [
           {
            "marker": {
             "line": {
              "color": "white",
              "width": 0.5
             },
             "pattern": {
              "fillmode": "overlay",
              "size": 10,
              "solidity": 0.2
             }
            },
            "type": "barpolar"
           }
          ],
          "carpet": [
           {
            "aaxis": {
             "endlinecolor": "rgb(36,36,36)",
             "gridcolor": "white",
             "linecolor": "white",
             "minorgridcolor": "white",
             "startlinecolor": "rgb(36,36,36)"
            },
            "baxis": {
             "endlinecolor": "rgb(36,36,36)",
             "gridcolor": "white",
             "linecolor": "white",
             "minorgridcolor": "white",
             "startlinecolor": "rgb(36,36,36)"
            },
            "type": "carpet"
           }
          ],
          "choropleth": [
           {
            "colorbar": {
             "outlinewidth": 1,
             "tickcolor": "rgb(36,36,36)",
             "ticks": "outside"
            },
            "type": "choropleth"
           }
          ],
          "contour": [
           {
            "colorbar": {
             "outlinewidth": 1,
             "tickcolor": "rgb(36,36,36)",
             "ticks": "outside"
            },
            "colorscale": [
             [
              0,
              "#440154"
             ],
             [
              0.1111111111111111,
              "#482878"
             ],
             [
              0.2222222222222222,
              "#3e4989"
             ],
             [
              0.3333333333333333,
              "#31688e"
             ],
             [
              0.4444444444444444,
              "#26828e"
             ],
             [
              0.5555555555555556,
              "#1f9e89"
             ],
             [
              0.6666666666666666,
              "#35b779"
             ],
             [
              0.7777777777777778,
              "#6ece58"
             ],
             [
              0.8888888888888888,
              "#b5de2b"
             ],
             [
              1,
              "#fde725"
             ]
            ],
            "type": "contour"
           }
          ],
          "contourcarpet": [
           {
            "colorbar": {
             "outlinewidth": 1,
             "tickcolor": "rgb(36,36,36)",
             "ticks": "outside"
            },
            "type": "contourcarpet"
           }
          ],
          "heatmap": [
           {
            "colorbar": {
             "outlinewidth": 1,
             "tickcolor": "rgb(36,36,36)",
             "ticks": "outside"
            },
            "colorscale": [
             [
              0,
              "#440154"
             ],
             [
              0.1111111111111111,
              "#482878"
             ],
             [
              0.2222222222222222,
              "#3e4989"
             ],
             [
              0.3333333333333333,
              "#31688e"
             ],
             [
              0.4444444444444444,
              "#26828e"
             ],
             [
              0.5555555555555556,
              "#1f9e89"
             ],
             [
              0.6666666666666666,
              "#35b779"
             ],
             [
              0.7777777777777778,
              "#6ece58"
             ],
             [
              0.8888888888888888,
              "#b5de2b"
             ],
             [
              1,
              "#fde725"
             ]
            ],
            "type": "heatmap"
           }
          ],
          "heatmapgl": [
           {
            "colorbar": {
             "outlinewidth": 1,
             "tickcolor": "rgb(36,36,36)",
             "ticks": "outside"
            },
            "colorscale": [
             [
              0,
              "#440154"
             ],
             [
              0.1111111111111111,
              "#482878"
             ],
             [
              0.2222222222222222,
              "#3e4989"
             ],
             [
              0.3333333333333333,
              "#31688e"
             ],
             [
              0.4444444444444444,
              "#26828e"
             ],
             [
              0.5555555555555556,
              "#1f9e89"
             ],
             [
              0.6666666666666666,
              "#35b779"
             ],
             [
              0.7777777777777778,
              "#6ece58"
             ],
             [
              0.8888888888888888,
              "#b5de2b"
             ],
             [
              1,
              "#fde725"
             ]
            ],
            "type": "heatmapgl"
           }
          ],
          "histogram": [
           {
            "marker": {
             "line": {
              "color": "white",
              "width": 0.6
             }
            },
            "type": "histogram"
           }
          ],
          "histogram2d": [
           {
            "colorbar": {
             "outlinewidth": 1,
             "tickcolor": "rgb(36,36,36)",
             "ticks": "outside"
            },
            "colorscale": [
             [
              0,
              "#440154"
             ],
             [
              0.1111111111111111,
              "#482878"
             ],
             [
              0.2222222222222222,
              "#3e4989"
             ],
             [
              0.3333333333333333,
              "#31688e"
             ],
             [
              0.4444444444444444,
              "#26828e"
             ],
             [
              0.5555555555555556,
              "#1f9e89"
             ],
             [
              0.6666666666666666,
              "#35b779"
             ],
             [
              0.7777777777777778,
              "#6ece58"
             ],
             [
              0.8888888888888888,
              "#b5de2b"
             ],
             [
              1,
              "#fde725"
             ]
            ],
            "type": "histogram2d"
           }
          ],
          "histogram2dcontour": [
           {
            "colorbar": {
             "outlinewidth": 1,
             "tickcolor": "rgb(36,36,36)",
             "ticks": "outside"
            },
            "colorscale": [
             [
              0,
              "#440154"
             ],
             [
              0.1111111111111111,
              "#482878"
             ],
             [
              0.2222222222222222,
              "#3e4989"
             ],
             [
              0.3333333333333333,
              "#31688e"
             ],
             [
              0.4444444444444444,
              "#26828e"
             ],
             [
              0.5555555555555556,
              "#1f9e89"
             ],
             [
              0.6666666666666666,
              "#35b779"
             ],
             [
              0.7777777777777778,
              "#6ece58"
             ],
             [
              0.8888888888888888,
              "#b5de2b"
             ],
             [
              1,
              "#fde725"
             ]
            ],
            "type": "histogram2dcontour"
           }
          ],
          "mesh3d": [
           {
            "colorbar": {
             "outlinewidth": 1,
             "tickcolor": "rgb(36,36,36)",
             "ticks": "outside"
            },
            "type": "mesh3d"
           }
          ],
          "parcoords": [
           {
            "line": {
             "colorbar": {
              "outlinewidth": 1,
              "tickcolor": "rgb(36,36,36)",
              "ticks": "outside"
             }
            },
            "type": "parcoords"
           }
          ],
          "pie": [
           {
            "automargin": true,
            "type": "pie"
           }
          ],
          "scatter": [
           {
            "fillpattern": {
             "fillmode": "overlay",
             "size": 10,
             "solidity": 0.2
            },
            "type": "scatter"
           }
          ],
          "scatter3d": [
           {
            "line": {
             "colorbar": {
              "outlinewidth": 1,
              "tickcolor": "rgb(36,36,36)",
              "ticks": "outside"
             }
            },
            "marker": {
             "colorbar": {
              "outlinewidth": 1,
              "tickcolor": "rgb(36,36,36)",
              "ticks": "outside"
             }
            },
            "type": "scatter3d"
           }
          ],
          "scattercarpet": [
           {
            "marker": {
             "colorbar": {
              "outlinewidth": 1,
              "tickcolor": "rgb(36,36,36)",
              "ticks": "outside"
             }
            },
            "type": "scattercarpet"
           }
          ],
          "scattergeo": [
           {
            "marker": {
             "colorbar": {
              "outlinewidth": 1,
              "tickcolor": "rgb(36,36,36)",
              "ticks": "outside"
             }
            },
            "type": "scattergeo"
           }
          ],
          "scattergl": [
           {
            "marker": {
             "colorbar": {
              "outlinewidth": 1,
              "tickcolor": "rgb(36,36,36)",
              "ticks": "outside"
             }
            },
            "type": "scattergl"
           }
          ],
          "scattermapbox": [
           {
            "marker": {
             "colorbar": {
              "outlinewidth": 1,
              "tickcolor": "rgb(36,36,36)",
              "ticks": "outside"
             }
            },
            "type": "scattermapbox"
           }
          ],
          "scatterpolar": [
           {
            "marker": {
             "colorbar": {
              "outlinewidth": 1,
              "tickcolor": "rgb(36,36,36)",
              "ticks": "outside"
             }
            },
            "type": "scatterpolar"
           }
          ],
          "scatterpolargl": [
           {
            "marker": {
             "colorbar": {
              "outlinewidth": 1,
              "tickcolor": "rgb(36,36,36)",
              "ticks": "outside"
             }
            },
            "type": "scatterpolargl"
           }
          ],
          "scatterternary": [
           {
            "marker": {
             "colorbar": {
              "outlinewidth": 1,
              "tickcolor": "rgb(36,36,36)",
              "ticks": "outside"
             }
            },
            "type": "scatterternary"
           }
          ],
          "surface": [
           {
            "colorbar": {
             "outlinewidth": 1,
             "tickcolor": "rgb(36,36,36)",
             "ticks": "outside"
            },
            "colorscale": [
             [
              0,
              "#440154"
             ],
             [
              0.1111111111111111,
              "#482878"
             ],
             [
              0.2222222222222222,
              "#3e4989"
             ],
             [
              0.3333333333333333,
              "#31688e"
             ],
             [
              0.4444444444444444,
              "#26828e"
             ],
             [
              0.5555555555555556,
              "#1f9e89"
             ],
             [
              0.6666666666666666,
              "#35b779"
             ],
             [
              0.7777777777777778,
              "#6ece58"
             ],
             [
              0.8888888888888888,
              "#b5de2b"
             ],
             [
              1,
              "#fde725"
             ]
            ],
            "type": "surface"
           }
          ],
          "table": [
           {
            "cells": {
             "fill": {
              "color": "rgb(237,237,237)"
             },
             "line": {
              "color": "white"
             }
            },
            "header": {
             "fill": {
              "color": "rgb(217,217,217)"
             },
             "line": {
              "color": "white"
             }
            },
            "type": "table"
           }
          ]
         },
         "layout": {
          "annotationdefaults": {
           "arrowhead": 0,
           "arrowwidth": 1
          },
          "autotypenumbers": "strict",
          "coloraxis": {
           "colorbar": {
            "outlinewidth": 1,
            "tickcolor": "rgb(36,36,36)",
            "ticks": "outside"
           }
          },
          "colorscale": {
           "diverging": [
            [
             0,
             "rgb(103,0,31)"
            ],
            [
             0.1,
             "rgb(178,24,43)"
            ],
            [
             0.2,
             "rgb(214,96,77)"
            ],
            [
             0.3,
             "rgb(244,165,130)"
            ],
            [
             0.4,
             "rgb(253,219,199)"
            ],
            [
             0.5,
             "rgb(247,247,247)"
            ],
            [
             0.6,
             "rgb(209,229,240)"
            ],
            [
             0.7,
             "rgb(146,197,222)"
            ],
            [
             0.8,
             "rgb(67,147,195)"
            ],
            [
             0.9,
             "rgb(33,102,172)"
            ],
            [
             1,
             "rgb(5,48,97)"
            ]
           ],
           "sequential": [
            [
             0,
             "#440154"
            ],
            [
             0.1111111111111111,
             "#482878"
            ],
            [
             0.2222222222222222,
             "#3e4989"
            ],
            [
             0.3333333333333333,
             "#31688e"
            ],
            [
             0.4444444444444444,
             "#26828e"
            ],
            [
             0.5555555555555556,
             "#1f9e89"
            ],
            [
             0.6666666666666666,
             "#35b779"
            ],
            [
             0.7777777777777778,
             "#6ece58"
            ],
            [
             0.8888888888888888,
             "#b5de2b"
            ],
            [
             1,
             "#fde725"
            ]
           ],
           "sequentialminus": [
            [
             0,
             "#440154"
            ],
            [
             0.1111111111111111,
             "#482878"
            ],
            [
             0.2222222222222222,
             "#3e4989"
            ],
            [
             0.3333333333333333,
             "#31688e"
            ],
            [
             0.4444444444444444,
             "#26828e"
            ],
            [
             0.5555555555555556,
             "#1f9e89"
            ],
            [
             0.6666666666666666,
             "#35b779"
            ],
            [
             0.7777777777777778,
             "#6ece58"
            ],
            [
             0.8888888888888888,
             "#b5de2b"
            ],
            [
             1,
             "#fde725"
            ]
           ]
          },
          "colorway": [
           "#1F77B4",
           "#FF7F0E",
           "#2CA02C",
           "#D62728",
           "#9467BD",
           "#8C564B",
           "#E377C2",
           "#7F7F7F",
           "#BCBD22",
           "#17BECF"
          ],
          "font": {
           "color": "rgb(36,36,36)"
          },
          "geo": {
           "bgcolor": "white",
           "lakecolor": "white",
           "landcolor": "white",
           "showlakes": true,
           "showland": true,
           "subunitcolor": "white"
          },
          "hoverlabel": {
           "align": "left"
          },
          "hovermode": "closest",
          "mapbox": {
           "style": "light"
          },
          "paper_bgcolor": "white",
          "plot_bgcolor": "white",
          "polar": {
           "angularaxis": {
            "gridcolor": "rgb(232,232,232)",
            "linecolor": "rgb(36,36,36)",
            "showgrid": false,
            "showline": true,
            "ticks": "outside"
           },
           "bgcolor": "white",
           "radialaxis": {
            "gridcolor": "rgb(232,232,232)",
            "linecolor": "rgb(36,36,36)",
            "showgrid": false,
            "showline": true,
            "ticks": "outside"
           }
          },
          "scene": {
           "xaxis": {
            "backgroundcolor": "white",
            "gridcolor": "rgb(232,232,232)",
            "gridwidth": 2,
            "linecolor": "rgb(36,36,36)",
            "showbackground": true,
            "showgrid": false,
            "showline": true,
            "ticks": "outside",
            "zeroline": false,
            "zerolinecolor": "rgb(36,36,36)"
           },
           "yaxis": {
            "backgroundcolor": "white",
            "gridcolor": "rgb(232,232,232)",
            "gridwidth": 2,
            "linecolor": "rgb(36,36,36)",
            "showbackground": true,
            "showgrid": false,
            "showline": true,
            "ticks": "outside",
            "zeroline": false,
            "zerolinecolor": "rgb(36,36,36)"
           },
           "zaxis": {
            "backgroundcolor": "white",
            "gridcolor": "rgb(232,232,232)",
            "gridwidth": 2,
            "linecolor": "rgb(36,36,36)",
            "showbackground": true,
            "showgrid": false,
            "showline": true,
            "ticks": "outside",
            "zeroline": false,
            "zerolinecolor": "rgb(36,36,36)"
           }
          },
          "shapedefaults": {
           "fillcolor": "black",
           "line": {
            "width": 0
           },
           "opacity": 0.3
          },
          "ternary": {
           "aaxis": {
            "gridcolor": "rgb(232,232,232)",
            "linecolor": "rgb(36,36,36)",
            "showgrid": false,
            "showline": true,
            "ticks": "outside"
           },
           "baxis": {
            "gridcolor": "rgb(232,232,232)",
            "linecolor": "rgb(36,36,36)",
            "showgrid": false,
            "showline": true,
            "ticks": "outside"
           },
           "bgcolor": "white",
           "caxis": {
            "gridcolor": "rgb(232,232,232)",
            "linecolor": "rgb(36,36,36)",
            "showgrid": false,
            "showline": true,
            "ticks": "outside"
           }
          },
          "title": {
           "x": 0.05
          },
          "xaxis": {
           "automargin": true,
           "gridcolor": "rgb(232,232,232)",
           "linecolor": "rgb(36,36,36)",
           "showgrid": false,
           "showline": true,
           "ticks": "outside",
           "title": {
            "standoff": 15
           },
           "zeroline": false,
           "zerolinecolor": "rgb(36,36,36)"
          },
          "yaxis": {
           "automargin": true,
           "gridcolor": "rgb(232,232,232)",
           "linecolor": "rgb(36,36,36)",
           "showgrid": false,
           "showline": true,
           "ticks": "outside",
           "title": {
            "standoff": 15
           },
           "zeroline": false,
           "zerolinecolor": "rgb(36,36,36)"
          }
         }
        },
        "title": {
         "text": "<b style=\"font-family: Times New Roman; font-size:1.6vw\">Percentage of Americans living alone, by age</b><br><b style=\"font-family: Times New Roman; font-size:1.1vw\">The share of Americans living alone, by age. An individual is defined as living alone where there is one person <br>in the household and does not live in group quarters.</b>",
         "x": 0.08
        },
        "xaxis": {
         "anchor": "y",
         "domain": [
          0,
          1
         ],
         "title": {
          "text": "<b style=\"font-family: Times New Roman;\" >Year</b>"
         }
        },
        "yaxis": {
         "anchor": "x",
         "domain": [
          0,
          1
         ],
         "showgrid": true,
         "ticksuffix": " %",
         "title": {
          "text": "<b style=\"font-family: Times New Roman;\" >Living Alone</b>"
         }
        }
       }
      },
      "text/html": [
       "<div>                            <div id=\"48340f0a-040f-4f3c-be3a-176334b92612\" class=\"plotly-graph-div\" style=\"height:525px; width:100%;\"></div>            <script type=\"text/javascript\">                require([\"plotly\"], function(Plotly) {                    window.PLOTLYENV=window.PLOTLYENV || {};                                    if (document.getElementById(\"48340f0a-040f-4f3c-be3a-176334b92612\")) {                    Plotly.newPlot(                        \"48340f0a-040f-4f3c-be3a-176334b92612\",                        [{\"legendgroup\":\"Age 18\",\"line\":{\"color\":\"#1F77B4\",\"dash\":\"solid\"},\"marker\":{\"symbol\":\"circle\"},\"mode\":\"markers+lines\",\"name\":\"Age 18\",\"orientation\":\"v\",\"showlegend\":true,\"x\":[1900,1920,1940,1960,1980,2000,2018],\"xaxis\":\"x\",\"y\":[0.2826103,0.29753187,0.16828842,0.50808835,1.0791981,0.88557899,0.54856783],\"yaxis\":\"y\",\"type\":\"scatter\"},{\"legendgroup\":\"Age 21\",\"line\":{\"color\":\"#FF7F0E\",\"dash\":\"solid\"},\"marker\":{\"symbol\":\"circle\"},\"mode\":\"markers+lines\",\"name\":\"Age 21\",\"orientation\":\"v\",\"showlegend\":true,\"x\":[1900,1920,1940,1960,1980,2000,2018],\"xaxis\":\"x\",\"y\":[0.8530516,0.61699224,0.65782249,1.6465194,5.5592036,4.7959294,3.7633936],\"yaxis\":\"y\",\"type\":\"scatter\"},{\"legendgroup\":\"Age 30\",\"line\":{\"color\":\"#2CA02C\",\"dash\":\"solid\"},\"marker\":{\"symbol\":\"circle\"},\"mode\":\"markers+lines\",\"name\":\"Age 30\",\"orientation\":\"v\",\"showlegend\":true,\"x\":[1900,1920,1940,1960,1980,2000,2018],\"xaxis\":\"x\",\"y\":[1.4475262,1.0820333,1.5331241,2.4077144,8.9690161,9.7933722,9.47083],\"yaxis\":\"y\",\"type\":\"scatter\"},{\"legendgroup\":\"Age 45\",\"line\":{\"color\":\"#D62728\",\"dash\":\"solid\"},\"marker\":{\"symbol\":\"circle\"},\"mode\":\"markers+lines\",\"name\":\"Age 45\",\"orientation\":\"v\",\"showlegend\":true,\"x\":[1900,1920,1940,1960,1980,2000,2018],\"xaxis\":\"x\",\"y\":[2.0883126,2.2757423,2.8379524,3.8069024,6.1046829,10.512973,9.170002],\"yaxis\":\"y\",\"type\":\"scatter\"},{\"legendgroup\":\"Age 60\",\"line\":{\"color\":\"#9467BD\",\"dash\":\"solid\"},\"marker\":{\"symbol\":\"circle\"},\"mode\":\"markers+lines\",\"name\":\"Age 60\",\"orientation\":\"v\",\"showlegend\":true,\"x\":[1900,1920,1940,1960,1980,2000,2018],\"xaxis\":\"x\",\"y\":[4.2898355,4.8850908,6.3180275,10.958211,13.569151,15.704637,17.681852],\"yaxis\":\"y\",\"type\":\"scatter\"},{\"legendgroup\":\"Age 75\",\"line\":{\"color\":\"#8C564B\",\"dash\":\"solid\"},\"marker\":{\"symbol\":\"circle\"},\"mode\":\"markers+lines\",\"name\":\"Age 75\",\"orientation\":\"v\",\"showlegend\":true,\"x\":[1900,1920,1940,1960,1980,2000,2018],\"xaxis\":\"x\",\"y\":[6.4125099,8.3861637,12.162309,20.639933,31.746202,28.880363,24.76524],\"yaxis\":\"y\",\"type\":\"scatter\"},{\"legendgroup\":\"Age 89\",\"line\":{\"color\":\"#E377C2\",\"dash\":\"solid\"},\"marker\":{\"symbol\":\"circle\"},\"mode\":\"markers+lines\",\"name\":\"Age 89\",\"orientation\":\"v\",\"showlegend\":true,\"x\":[1900,1920,1940,1960,1980,2000,2018],\"xaxis\":\"x\",\"y\":[3.0029743,5.5308571,8.7714338,14.518483,29.159912,40.842579,41.961132],\"yaxis\":\"y\",\"type\":\"scatter\"}],                        {\"template\":{\"data\":{\"barpolar\":[{\"marker\":{\"line\":{\"color\":\"white\",\"width\":0.5},\"pattern\":{\"fillmode\":\"overlay\",\"size\":10,\"solidity\":0.2}},\"type\":\"barpolar\"}],\"bar\":[{\"error_x\":{\"color\":\"rgb(36,36,36)\"},\"error_y\":{\"color\":\"rgb(36,36,36)\"},\"marker\":{\"line\":{\"color\":\"white\",\"width\":0.5},\"pattern\":{\"fillmode\":\"overlay\",\"size\":10,\"solidity\":0.2}},\"type\":\"bar\"}],\"carpet\":[{\"aaxis\":{\"endlinecolor\":\"rgb(36,36,36)\",\"gridcolor\":\"white\",\"linecolor\":\"white\",\"minorgridcolor\":\"white\",\"startlinecolor\":\"rgb(36,36,36)\"},\"baxis\":{\"endlinecolor\":\"rgb(36,36,36)\",\"gridcolor\":\"white\",\"linecolor\":\"white\",\"minorgridcolor\":\"white\",\"startlinecolor\":\"rgb(36,36,36)\"},\"type\":\"carpet\"}],\"choropleth\":[{\"colorbar\":{\"outlinewidth\":1,\"tickcolor\":\"rgb(36,36,36)\",\"ticks\":\"outside\"},\"type\":\"choropleth\"}],\"contourcarpet\":[{\"colorbar\":{\"outlinewidth\":1,\"tickcolor\":\"rgb(36,36,36)\",\"ticks\":\"outside\"},\"type\":\"contourcarpet\"}],\"contour\":[{\"colorbar\":{\"outlinewidth\":1,\"tickcolor\":\"rgb(36,36,36)\",\"ticks\":\"outside\"},\"colorscale\":[[0.0,\"#440154\"],[0.1111111111111111,\"#482878\"],[0.2222222222222222,\"#3e4989\"],[0.3333333333333333,\"#31688e\"],[0.4444444444444444,\"#26828e\"],[0.5555555555555556,\"#1f9e89\"],[0.6666666666666666,\"#35b779\"],[0.7777777777777778,\"#6ece58\"],[0.8888888888888888,\"#b5de2b\"],[1.0,\"#fde725\"]],\"type\":\"contour\"}],\"heatmapgl\":[{\"colorbar\":{\"outlinewidth\":1,\"tickcolor\":\"rgb(36,36,36)\",\"ticks\":\"outside\"},\"colorscale\":[[0.0,\"#440154\"],[0.1111111111111111,\"#482878\"],[0.2222222222222222,\"#3e4989\"],[0.3333333333333333,\"#31688e\"],[0.4444444444444444,\"#26828e\"],[0.5555555555555556,\"#1f9e89\"],[0.6666666666666666,\"#35b779\"],[0.7777777777777778,\"#6ece58\"],[0.8888888888888888,\"#b5de2b\"],[1.0,\"#fde725\"]],\"type\":\"heatmapgl\"}],\"heatmap\":[{\"colorbar\":{\"outlinewidth\":1,\"tickcolor\":\"rgb(36,36,36)\",\"ticks\":\"outside\"},\"colorscale\":[[0.0,\"#440154\"],[0.1111111111111111,\"#482878\"],[0.2222222222222222,\"#3e4989\"],[0.3333333333333333,\"#31688e\"],[0.4444444444444444,\"#26828e\"],[0.5555555555555556,\"#1f9e89\"],[0.6666666666666666,\"#35b779\"],[0.7777777777777778,\"#6ece58\"],[0.8888888888888888,\"#b5de2b\"],[1.0,\"#fde725\"]],\"type\":\"heatmap\"}],\"histogram2dcontour\":[{\"colorbar\":{\"outlinewidth\":1,\"tickcolor\":\"rgb(36,36,36)\",\"ticks\":\"outside\"},\"colorscale\":[[0.0,\"#440154\"],[0.1111111111111111,\"#482878\"],[0.2222222222222222,\"#3e4989\"],[0.3333333333333333,\"#31688e\"],[0.4444444444444444,\"#26828e\"],[0.5555555555555556,\"#1f9e89\"],[0.6666666666666666,\"#35b779\"],[0.7777777777777778,\"#6ece58\"],[0.8888888888888888,\"#b5de2b\"],[1.0,\"#fde725\"]],\"type\":\"histogram2dcontour\"}],\"histogram2d\":[{\"colorbar\":{\"outlinewidth\":1,\"tickcolor\":\"rgb(36,36,36)\",\"ticks\":\"outside\"},\"colorscale\":[[0.0,\"#440154\"],[0.1111111111111111,\"#482878\"],[0.2222222222222222,\"#3e4989\"],[0.3333333333333333,\"#31688e\"],[0.4444444444444444,\"#26828e\"],[0.5555555555555556,\"#1f9e89\"],[0.6666666666666666,\"#35b779\"],[0.7777777777777778,\"#6ece58\"],[0.8888888888888888,\"#b5de2b\"],[1.0,\"#fde725\"]],\"type\":\"histogram2d\"}],\"histogram\":[{\"marker\":{\"line\":{\"color\":\"white\",\"width\":0.6}},\"type\":\"histogram\"}],\"mesh3d\":[{\"colorbar\":{\"outlinewidth\":1,\"tickcolor\":\"rgb(36,36,36)\",\"ticks\":\"outside\"},\"type\":\"mesh3d\"}],\"parcoords\":[{\"line\":{\"colorbar\":{\"outlinewidth\":1,\"tickcolor\":\"rgb(36,36,36)\",\"ticks\":\"outside\"}},\"type\":\"parcoords\"}],\"pie\":[{\"automargin\":true,\"type\":\"pie\"}],\"scatter3d\":[{\"line\":{\"colorbar\":{\"outlinewidth\":1,\"tickcolor\":\"rgb(36,36,36)\",\"ticks\":\"outside\"}},\"marker\":{\"colorbar\":{\"outlinewidth\":1,\"tickcolor\":\"rgb(36,36,36)\",\"ticks\":\"outside\"}},\"type\":\"scatter3d\"}],\"scattercarpet\":[{\"marker\":{\"colorbar\":{\"outlinewidth\":1,\"tickcolor\":\"rgb(36,36,36)\",\"ticks\":\"outside\"}},\"type\":\"scattercarpet\"}],\"scattergeo\":[{\"marker\":{\"colorbar\":{\"outlinewidth\":1,\"tickcolor\":\"rgb(36,36,36)\",\"ticks\":\"outside\"}},\"type\":\"scattergeo\"}],\"scattergl\":[{\"marker\":{\"colorbar\":{\"outlinewidth\":1,\"tickcolor\":\"rgb(36,36,36)\",\"ticks\":\"outside\"}},\"type\":\"scattergl\"}],\"scattermapbox\":[{\"marker\":{\"colorbar\":{\"outlinewidth\":1,\"tickcolor\":\"rgb(36,36,36)\",\"ticks\":\"outside\"}},\"type\":\"scattermapbox\"}],\"scatterpolargl\":[{\"marker\":{\"colorbar\":{\"outlinewidth\":1,\"tickcolor\":\"rgb(36,36,36)\",\"ticks\":\"outside\"}},\"type\":\"scatterpolargl\"}],\"scatterpolar\":[{\"marker\":{\"colorbar\":{\"outlinewidth\":1,\"tickcolor\":\"rgb(36,36,36)\",\"ticks\":\"outside\"}},\"type\":\"scatterpolar\"}],\"scatter\":[{\"fillpattern\":{\"fillmode\":\"overlay\",\"size\":10,\"solidity\":0.2},\"type\":\"scatter\"}],\"scatterternary\":[{\"marker\":{\"colorbar\":{\"outlinewidth\":1,\"tickcolor\":\"rgb(36,36,36)\",\"ticks\":\"outside\"}},\"type\":\"scatterternary\"}],\"surface\":[{\"colorbar\":{\"outlinewidth\":1,\"tickcolor\":\"rgb(36,36,36)\",\"ticks\":\"outside\"},\"colorscale\":[[0.0,\"#440154\"],[0.1111111111111111,\"#482878\"],[0.2222222222222222,\"#3e4989\"],[0.3333333333333333,\"#31688e\"],[0.4444444444444444,\"#26828e\"],[0.5555555555555556,\"#1f9e89\"],[0.6666666666666666,\"#35b779\"],[0.7777777777777778,\"#6ece58\"],[0.8888888888888888,\"#b5de2b\"],[1.0,\"#fde725\"]],\"type\":\"surface\"}],\"table\":[{\"cells\":{\"fill\":{\"color\":\"rgb(237,237,237)\"},\"line\":{\"color\":\"white\"}},\"header\":{\"fill\":{\"color\":\"rgb(217,217,217)\"},\"line\":{\"color\":\"white\"}},\"type\":\"table\"}]},\"layout\":{\"annotationdefaults\":{\"arrowhead\":0,\"arrowwidth\":1},\"autotypenumbers\":\"strict\",\"coloraxis\":{\"colorbar\":{\"outlinewidth\":1,\"tickcolor\":\"rgb(36,36,36)\",\"ticks\":\"outside\"}},\"colorscale\":{\"diverging\":[[0.0,\"rgb(103,0,31)\"],[0.1,\"rgb(178,24,43)\"],[0.2,\"rgb(214,96,77)\"],[0.3,\"rgb(244,165,130)\"],[0.4,\"rgb(253,219,199)\"],[0.5,\"rgb(247,247,247)\"],[0.6,\"rgb(209,229,240)\"],[0.7,\"rgb(146,197,222)\"],[0.8,\"rgb(67,147,195)\"],[0.9,\"rgb(33,102,172)\"],[1.0,\"rgb(5,48,97)\"]],\"sequential\":[[0.0,\"#440154\"],[0.1111111111111111,\"#482878\"],[0.2222222222222222,\"#3e4989\"],[0.3333333333333333,\"#31688e\"],[0.4444444444444444,\"#26828e\"],[0.5555555555555556,\"#1f9e89\"],[0.6666666666666666,\"#35b779\"],[0.7777777777777778,\"#6ece58\"],[0.8888888888888888,\"#b5de2b\"],[1.0,\"#fde725\"]],\"sequentialminus\":[[0.0,\"#440154\"],[0.1111111111111111,\"#482878\"],[0.2222222222222222,\"#3e4989\"],[0.3333333333333333,\"#31688e\"],[0.4444444444444444,\"#26828e\"],[0.5555555555555556,\"#1f9e89\"],[0.6666666666666666,\"#35b779\"],[0.7777777777777778,\"#6ece58\"],[0.8888888888888888,\"#b5de2b\"],[1.0,\"#fde725\"]]},\"colorway\":[\"#1F77B4\",\"#FF7F0E\",\"#2CA02C\",\"#D62728\",\"#9467BD\",\"#8C564B\",\"#E377C2\",\"#7F7F7F\",\"#BCBD22\",\"#17BECF\"],\"font\":{\"color\":\"rgb(36,36,36)\"},\"geo\":{\"bgcolor\":\"white\",\"lakecolor\":\"white\",\"landcolor\":\"white\",\"showlakes\":true,\"showland\":true,\"subunitcolor\":\"white\"},\"hoverlabel\":{\"align\":\"left\"},\"hovermode\":\"closest\",\"mapbox\":{\"style\":\"light\"},\"paper_bgcolor\":\"white\",\"plot_bgcolor\":\"white\",\"polar\":{\"angularaxis\":{\"gridcolor\":\"rgb(232,232,232)\",\"linecolor\":\"rgb(36,36,36)\",\"showgrid\":false,\"showline\":true,\"ticks\":\"outside\"},\"bgcolor\":\"white\",\"radialaxis\":{\"gridcolor\":\"rgb(232,232,232)\",\"linecolor\":\"rgb(36,36,36)\",\"showgrid\":false,\"showline\":true,\"ticks\":\"outside\"}},\"scene\":{\"xaxis\":{\"backgroundcolor\":\"white\",\"gridcolor\":\"rgb(232,232,232)\",\"gridwidth\":2,\"linecolor\":\"rgb(36,36,36)\",\"showbackground\":true,\"showgrid\":false,\"showline\":true,\"ticks\":\"outside\",\"zeroline\":false,\"zerolinecolor\":\"rgb(36,36,36)\"},\"yaxis\":{\"backgroundcolor\":\"white\",\"gridcolor\":\"rgb(232,232,232)\",\"gridwidth\":2,\"linecolor\":\"rgb(36,36,36)\",\"showbackground\":true,\"showgrid\":false,\"showline\":true,\"ticks\":\"outside\",\"zeroline\":false,\"zerolinecolor\":\"rgb(36,36,36)\"},\"zaxis\":{\"backgroundcolor\":\"white\",\"gridcolor\":\"rgb(232,232,232)\",\"gridwidth\":2,\"linecolor\":\"rgb(36,36,36)\",\"showbackground\":true,\"showgrid\":false,\"showline\":true,\"ticks\":\"outside\",\"zeroline\":false,\"zerolinecolor\":\"rgb(36,36,36)\"}},\"shapedefaults\":{\"fillcolor\":\"black\",\"line\":{\"width\":0},\"opacity\":0.3},\"ternary\":{\"aaxis\":{\"gridcolor\":\"rgb(232,232,232)\",\"linecolor\":\"rgb(36,36,36)\",\"showgrid\":false,\"showline\":true,\"ticks\":\"outside\"},\"baxis\":{\"gridcolor\":\"rgb(232,232,232)\",\"linecolor\":\"rgb(36,36,36)\",\"showgrid\":false,\"showline\":true,\"ticks\":\"outside\"},\"bgcolor\":\"white\",\"caxis\":{\"gridcolor\":\"rgb(232,232,232)\",\"linecolor\":\"rgb(36,36,36)\",\"showgrid\":false,\"showline\":true,\"ticks\":\"outside\"}},\"title\":{\"x\":0.05},\"xaxis\":{\"automargin\":true,\"gridcolor\":\"rgb(232,232,232)\",\"linecolor\":\"rgb(36,36,36)\",\"showgrid\":false,\"showline\":true,\"ticks\":\"outside\",\"title\":{\"standoff\":15},\"zeroline\":false,\"zerolinecolor\":\"rgb(36,36,36)\"},\"yaxis\":{\"automargin\":true,\"gridcolor\":\"rgb(232,232,232)\",\"linecolor\":\"rgb(36,36,36)\",\"showgrid\":false,\"showline\":true,\"ticks\":\"outside\",\"title\":{\"standoff\":15},\"zeroline\":false,\"zerolinecolor\":\"rgb(36,36,36)\"}}},\"xaxis\":{\"anchor\":\"y\",\"domain\":[0.0,1.0],\"title\":{\"text\":\"<b style=\\\"font-family: Times New Roman;\\\" >Year</b>\"}},\"yaxis\":{\"anchor\":\"x\",\"domain\":[0.0,1.0],\"title\":{\"text\":\"<b style=\\\"font-family: Times New Roman;\\\" >Living Alone</b>\"},\"ticksuffix\":\" %\",\"showgrid\":true},\"legend\":{\"title\":{\"text\":\"Age\"},\"tracegroupgap\":0},\"margin\":{\"t\":100,\"r\":112,\"b\":70},\"hovermode\":\"x unified\",\"showlegend\":false,\"annotations\":[{\"showarrow\":false,\"text\":\"<b style=\\\"color:magenta; font-size:0.9vw\\\">Age 89</b>\",\"x\":1.02,\"xref\":\"paper\",\"y\":0.98,\"yref\":\"paper\"},{\"showarrow\":false,\"text\":\"<b style=\\\"color:SaddleBrown; font-size:0.9vw\\\">Age 75</b>\",\"x\":1.02,\"xref\":\"paper\",\"y\":0.58,\"yref\":\"paper\"},{\"showarrow\":false,\"text\":\"<b style=\\\"color:BlueViolet; font-size:0.9vw\\\">Age 60</b>\",\"x\":1.02,\"xref\":\"paper\",\"y\":0.42,\"yref\":\"paper\"},{\"showarrow\":false,\"text\":\"<b style=\\\"color:LimeGreen; font-size:0.9vw\\\">Age 30</b>\",\"x\":1.04,\"xref\":\"paper\",\"y\":0.25,\"yref\":\"paper\"},{\"showarrow\":false,\"text\":\"<b style=\\\"color:red; font-size:0.9vw\\\">Age 45</b>\",\"x\":1.04,\"xref\":\"paper\",\"y\":0.2,\"yref\":\"paper\"},{\"showarrow\":false,\"text\":\"<b style=\\\"color:orange; font-size:0.9vw\\\">Age 21</b>\",\"x\":1.04,\"xref\":\"paper\",\"y\":0.11,\"yref\":\"paper\"},{\"showarrow\":false,\"text\":\"<b style=\\\"color:CornflowerBlue; font-size:0.9vw\\\">Age 18</b>\",\"x\":1.04,\"xref\":\"paper\",\"y\":0.05,\"yref\":\"paper\"},{\"showarrow\":false,\"text\":\"<b style=\\\"font-family: Times New Roman; font-size:01vw\\\">Source: </b><b style=\\\"font-family: Times New Roman; font-size:0.9vw\\\"> American Time Use Survey (2009-2019)</b>\",\"x\":0,\"xref\":\"paper\",\"y\":-0.18,\"yref\":\"paper\"},{\"showarrow\":false,\"text\":\"<b style=\\\"font-family: Times New Roman; font-size:0.9vw\\\"> \\u00a9 Plotly</b>\",\"x\":1,\"xref\":\"paper\",\"y\":-0.18,\"yref\":\"paper\"}],\"title\":{\"text\":\"<b style=\\\"font-family: Times New Roman; font-size:1.6vw\\\">Percentage of Americans living alone, by age</b><br><b style=\\\"font-family: Times New Roman; font-size:1.1vw\\\">The share of Americans living alone, by age. An individual is defined as living alone where there is one person <br>in the household and does not live in group quarters.</b>\",\"x\":0.08}},                        {\"responsive\": true}                    ).then(function(){\n",
       "                            \n",
       "var gd = document.getElementById('48340f0a-040f-4f3c-be3a-176334b92612');\n",
       "var x = new MutationObserver(function (mutations, observer) {{\n",
       "        var display = window.getComputedStyle(gd).display;\n",
       "        if (!display || display === 'none') {{\n",
       "            console.log([gd, 'removed!']);\n",
       "            Plotly.purge(gd);\n",
       "            observer.disconnect();\n",
       "        }}\n",
       "}});\n",
       "\n",
       "// Listen for the removal of the full notebook cells\n",
       "var notebookContainer = gd.closest('#notebook-container');\n",
       "if (notebookContainer) {{\n",
       "    x.observe(notebookContainer, {childList: true});\n",
       "}}\n",
       "\n",
       "// Listen for the clearing of the current output cell\n",
       "var outputEl = gd.closest('.output');\n",
       "if (outputEl) {{\n",
       "    x.observe(outputEl, {childList: true});\n",
       "}}\n",
       "\n",
       "                        })                };                });            </script>        </div>"
      ]
     },
     "metadata": {},
     "output_type": "display_data"
    }
   ],
   "source": [
    "fig=px.line(df1,x='Year',y='Living alone',color='Age',template='simple_white',markers=True)\n",
    "fig.update_yaxes(ticksuffix=\" %\", showgrid=True)\n",
    "fig.update_layout(margin=dict(r=112,t=100,b=70))\n",
    "fig.update_traces(mode=\"markers+lines\", hovertemplate=None)\n",
    "fig.update_layout(hovermode=\"x unified\")\n",
    "fig.update_layout(showlegend=False)\n",
    "fig.add_annotation(\n",
    "                   y=0.98,\n",
    "                   x=1.02,\n",
    "                   text=\"<b style=\\\"color:magenta; font-size:0.9vw\\\">Age 89</b>\",\n",
    "                   showarrow=False,\n",
    "                   xref=\"paper\",\n",
    "                   yref=\"paper\")\n",
    "fig.add_annotation(\n",
    "                   y=0.58,\n",
    "                   x=1.02,\n",
    "                   text=\"<b style=\\\"color:SaddleBrown; font-size:0.9vw\\\">Age 75</b>\",\n",
    "                   showarrow=False,\n",
    "                   xref=\"paper\",\n",
    "                   yref=\"paper\")\n",
    "fig.add_annotation(\n",
    "                   y=0.42,\n",
    "                   x=1.02,\n",
    "                   text=\"<b style=\\\"color:BlueViolet; font-size:0.9vw\\\">Age 60</b>\",\n",
    "                   showarrow=False,\n",
    "                   xref=\"paper\",\n",
    "                   yref=\"paper\")\n",
    "fig.add_annotation(\n",
    "                   y=0.25,\n",
    "                   x=1.04,\n",
    "                   text=\"<b style=\\\"color:LimeGreen; font-size:0.9vw\\\">Age 30</b>\",\n",
    "                   showarrow=False,\n",
    "                   xref=\"paper\",\n",
    "                   yref=\"paper\")\n",
    "fig.add_annotation(\n",
    "                   y=0.2,\n",
    "                   x=1.04,\n",
    "                   text=\"<b style=\\\"color:red; font-size:0.9vw\\\">Age 45</b>\",\n",
    "                   showarrow=False,\n",
    "                   xref=\"paper\",\n",
    "                   yref=\"paper\")\n",
    "fig.add_annotation(\n",
    "                   y=0.11,\n",
    "                   x=1.04,\n",
    "                   text=\"<b style=\\\"color:orange; font-size:0.9vw\\\">Age 21</b>\",\n",
    "                   showarrow=False,\n",
    "                   xref=\"paper\",\n",
    "                   yref=\"paper\")\n",
    "fig.add_annotation(\n",
    "                   y=0.05,\n",
    "                   x=1.04,\n",
    "                   text=\"<b style=\\\"color:CornflowerBlue; font-size:0.9vw\\\">Age 18</b>\",\n",
    "                   showarrow=False,\n",
    "                   xref=\"paper\",\n",
    "                   yref=\"paper\")\n",
    "fig.add_annotation(\n",
    "                   y=-0.18,\n",
    "                   x=0,\n",
    "                   text=\"<b style=\\\"font-family: Times New Roman; font-size:01vw\\\">Source: </b><b style=\\\"font-family: Times New Roman; font-size:0.9vw\\\"> American Time Use Survey (2009-2019)</b>\",\n",
    "                   showarrow=False,\n",
    "                   xref=\"paper\",\n",
    "                   yref=\"paper\")\n",
    "fig.add_annotation(\n",
    "                   y=-0.18,\n",
    "                   x=1,\n",
    "                   text=\"<b style=\\\"font-family: Times New Roman; font-size:0.9vw\\\"> © Plotly</b>\",\n",
    "                   showarrow=False,\n",
    "                   xref=\"paper\",\n",
    "                   yref=\"paper\")\n",
    "fig.update_layout(title_text='<b style=\"font-family: Times New Roman; font-size:1.6vw\">Percentage of Americans living alone, by age</b><br><b style=\"font-family: Times New Roman; font-size:1.1vw\">The share of Americans living alone, by age. An individual is defined as living alone where there is one person <br>in the household and does not live in group quarters.</b>',title_x=0.08)\n",
    "fig.update_yaxes(title_text='<b style=\"font-family: Times New Roman;\" >Living Alone</b>')\n",
    "fig.update_xaxes(title_text='<b style=\"font-family: Times New Roman;\" >Year</b>')"
   ]
  },
  {
   "attachments": {
    "newplot%20%289%29.png": {
     "image/png": "[encoded data removed]"
    }
   },
   "cell_type": "markdown",
   "id": "857e23db",
   "metadata": {},
   "source": [
    "![newplot%20%289%29.png](attachment:newplot%20%289%29.png)"
   ]
  },
  {
   "cell_type": "markdown",
   "id": "eaeedb2b",
   "metadata": {},
   "source": [
    "A natural conclusion would be that increasing alone time has negative impacts on people, however, being alone does not necessarily equate to loneliness.\n",
    "\n",
    "It is not just the amount of time spent with others, but the quality and expectations, that reduce loneliness."
   ]
  },
  {
   "cell_type": "markdown",
   "id": "2577fc46",
   "metadata": {},
   "source": [
    "<div style=\"color:white;\n",
    "            display:fill;\n",
    "            border-radius:15px;\n",
    "            background-color:white;\n",
    "            font-size:130%;\n",
    "            font-family:Verdana;\n",
    "            letter-spacing:1px\">\n",
    "    <h3 style='padding: 20px;\n",
    "              color:black;\n",
    "               border:black;\n",
    "               border-width:2.5px;\n",
    "               border-style:solid;\n",
    "              font-family: Times New Roman;\n",
    "              text-align:center;'>\n",
    "         References\n",
    "    </h3>\n",
    "    </div>"
   ]
  },
  {
   "cell_type": "markdown",
   "id": "7ba45c56",
   "metadata": {},
   "source": [
    "<a href='https://www.bls.gov/tus/home.htm' style='text-decoration:none; font-family: Times New Roman;'>[1] U.S. Bureau of Labor Statistics American Time Use Survey</a><br>\n",
    "<a href='https://ourworldindata.org/time-with-others-lifetime' style='text-decoration:none; font-family: Times New Roman;'>[2]  Our World in Data</a><br>\n",
    "<a href='https://www.visualcapitalist.com' style='text-decoration:none; font-family: Times New Roman;'>[3] Visual Capitalist </a><br>\n",
    "<a href='https://plotly.com/python/graph-objects/' style='text-decoration:none; font-family: Times New Roman;'>[4] Graph objects in Python - Plotly</a><br>"
   ]
  },
  {
   "cell_type": "markdown",
   "id": "85e75a75",
   "metadata": {},
   "source": [
    "<div style=\"color:black;\n",
    "            display:fill;\n",
    "            border-radius:15px;\n",
    "            background-color:white;\n",
    "            font-size:90%;\n",
    "            font-family:Verdana;\n",
    "            letter-spacing:1px\">\n",
    "    <h3 style='padding: 20px;\n",
    "              color:black;\n",
    "               font-family: Times New Roman;\n",
    "              text-align:center;'>\n",
    "        IF LIKED THE NOTEBOOK, PLEASE DO UPVOTE.\n",
    "    </h3>\n",
    "\n",
    "</div>"
   ]
  },
  {
   "cell_type": "markdown",
   "id": "50173d50",
   "metadata": {},
   "source": [
    "<div style=\"color:white;\n",
    "            display:fill;\n",
    "            border-radius:15px;\n",
    "            background-color:white;\n",
    "            font-size:120%;\n",
    "            font-family:Verdana;\n",
    "            letter-spacing:1px\">\n",
    "    <h3 style='padding: 10px;\n",
    "              color:black;\n",
    "              font-family: Times New Roman;\n",
    "              text-align:center;'>\n",
    "        THANK YOU FOR WATCHING !\n",
    "    </h3>\n",
    "    </div>"
   ]
  },
  {
   "cell_type": "markdown",
   "id": "343db030",
   "metadata": {},
   "source": [
    "<div style=\"color:white;\n",
    "            display:fill;\n",
    "            border-radius:15px;\n",
    "            background-color:white;\n",
    "            font-size:130%;\n",
    "            font-family:Verdana;\n",
    "            letter-spacing:1px\">\n",
    "    <h3 style='padding: 20px;\n",
    "              color:black;\n",
    "               border:black;\n",
    "               border-width:2.5px;\n",
    "               border-style:solid;\n",
    "              font-family: Times New Roman;\n",
    "              text-align:center;'>\n",
    "         END\n",
    "    </h3>\n",
    "    </div>"
   ]
  }
 ],
 "metadata": {
  "kernelspec": {
   "display_name": "Python 3 (ipykernel)",
   "language": "python",
   "name": "python3"
  },
  "language_info": {
   "codemirror_mode": {
    "name": "ipython",
    "version": 3
   },
   "file_extension": ".py",
   "mimetype": "text/x-python",
   "name": "python",
   "nbconvert_exporter": "python",
   "pygments_lexer": "ipython3",
   "version": "3.9.7"
  }
 },
 "nbformat": 4,
 "nbformat_minor": 5
}
